{
  "cells": [
    {
      "cell_type": "markdown",
      "metadata": {
        "id": "z3Ryjkt1KRWk"
      },
      "source": [
        "# **Chat With Your PDF**\n",
        "\n",
        "\n",
        "\n"
      ]
    },
    {
      "cell_type": "markdown",
      "metadata": {
        "id": "pdTl_dgJHVJU"
      },
      "source": [
        "# **Import Libraries**"
      ]
    },
    {
      "cell_type": "code",
      "execution_count": 119,
      "metadata": {
        "colab": {
          "base_uri": "https://localhost:8080/"
        },
        "collapsed": true,
        "id": "ts-GeSO03lmu",
        "outputId": "399480c4-2e8e-4555-95b4-e6afb73bd9a1"
      },
      "outputs": [
        {
          "name": "stdout",
          "output_type": "stream",
          "text": [
            "Requirement already satisfied: langchain in /usr/local/lib/python3.10/dist-packages (0.2.12)\n",
            "Requirement already satisfied: PyYAML>=5.3 in /usr/local/lib/python3.10/dist-packages (from langchain) (6.0.1)\n",
            "Requirement already satisfied: SQLAlchemy<3,>=1.4 in /usr/local/lib/python3.10/dist-packages (from langchain) (2.0.31)\n",
            "Requirement already satisfied: aiohttp<4.0.0,>=3.8.3 in /usr/local/lib/python3.10/dist-packages (from langchain) (3.9.5)\n",
            "Requirement already satisfied: async-timeout<5.0.0,>=4.0.0 in /usr/local/lib/python3.10/dist-packages (from langchain) (4.0.3)\n",
            "Requirement already satisfied: langchain-core<0.3.0,>=0.2.27 in /usr/local/lib/python3.10/dist-packages (from langchain) (0.2.28)\n",
            "Requirement already satisfied: langchain-text-splitters<0.3.0,>=0.2.0 in /usr/local/lib/python3.10/dist-packages (from langchain) (0.2.2)\n",
            "Requirement already satisfied: langsmith<0.2.0,>=0.1.17 in /usr/local/lib/python3.10/dist-packages (from langchain) (0.1.96)\n",
            "Requirement already satisfied: numpy<2,>=1 in /usr/local/lib/python3.10/dist-packages (from langchain) (1.26.4)\n",
            "Requirement already satisfied: pydantic<3,>=1 in /usr/local/lib/python3.10/dist-packages (from langchain) (2.8.2)\n",
            "Requirement already satisfied: requests<3,>=2 in /usr/local/lib/python3.10/dist-packages (from langchain) (2.31.0)\n",
            "Requirement already satisfied: tenacity!=8.4.0,<9.0.0,>=8.1.0 in /usr/local/lib/python3.10/dist-packages (from langchain) (8.5.0)\n",
            "Requirement already satisfied: aiosignal>=1.1.2 in /usr/local/lib/python3.10/dist-packages (from aiohttp<4.0.0,>=3.8.3->langchain) (1.3.1)\n",
            "Requirement already satisfied: attrs>=17.3.0 in /usr/local/lib/python3.10/dist-packages (from aiohttp<4.0.0,>=3.8.3->langchain) (23.2.0)\n",
            "Requirement already satisfied: frozenlist>=1.1.1 in /usr/local/lib/python3.10/dist-packages (from aiohttp<4.0.0,>=3.8.3->langchain) (1.4.1)\n",
            "Requirement already satisfied: multidict<7.0,>=4.5 in /usr/local/lib/python3.10/dist-packages (from aiohttp<4.0.0,>=3.8.3->langchain) (6.0.5)\n",
            "Requirement already satisfied: yarl<2.0,>=1.0 in /usr/local/lib/python3.10/dist-packages (from aiohttp<4.0.0,>=3.8.3->langchain) (1.9.4)\n",
            "Requirement already satisfied: jsonpatch<2.0,>=1.33 in /usr/local/lib/python3.10/dist-packages (from langchain-core<0.3.0,>=0.2.27->langchain) (1.33)\n",
            "Requirement already satisfied: packaging<25,>=23.2 in /usr/local/lib/python3.10/dist-packages (from langchain-core<0.3.0,>=0.2.27->langchain) (24.1)\n",
            "Requirement already satisfied: typing-extensions>=4.7 in /usr/local/lib/python3.10/dist-packages (from langchain-core<0.3.0,>=0.2.27->langchain) (4.12.2)\n",
            "Requirement already satisfied: orjson<4.0.0,>=3.9.14 in /usr/local/lib/python3.10/dist-packages (from langsmith<0.2.0,>=0.1.17->langchain) (3.10.6)\n",
            "Requirement already satisfied: annotated-types>=0.4.0 in /usr/local/lib/python3.10/dist-packages (from pydantic<3,>=1->langchain) (0.7.0)\n",
            "Requirement already satisfied: pydantic-core==2.20.1 in /usr/local/lib/python3.10/dist-packages (from pydantic<3,>=1->langchain) (2.20.1)\n",
            "Requirement already satisfied: charset-normalizer<4,>=2 in /usr/local/lib/python3.10/dist-packages (from requests<3,>=2->langchain) (3.3.2)\n",
            "Requirement already satisfied: idna<4,>=2.5 in /usr/local/lib/python3.10/dist-packages (from requests<3,>=2->langchain) (3.7)\n",
            "Requirement already satisfied: urllib3<3,>=1.21.1 in /usr/local/lib/python3.10/dist-packages (from requests<3,>=2->langchain) (2.0.7)\n",
            "Requirement already satisfied: certifi>=2017.4.17 in /usr/local/lib/python3.10/dist-packages (from requests<3,>=2->langchain) (2024.7.4)\n",
            "Requirement already satisfied: greenlet!=0.4.17 in /usr/local/lib/python3.10/dist-packages (from SQLAlchemy<3,>=1.4->langchain) (3.0.3)\n",
            "Requirement already satisfied: jsonpointer>=1.9 in /usr/local/lib/python3.10/dist-packages (from jsonpatch<2.0,>=1.33->langchain-core<0.3.0,>=0.2.27->langchain) (3.0.0)\n"
          ]
        }
      ],
      "source": [
        "! pip install langchain"
      ]
    },
    {
      "cell_type": "code",
      "execution_count": 120,
      "metadata": {
        "colab": {
          "base_uri": "https://localhost:8080/"
        },
        "collapsed": true,
        "id": "GcxBBVUX3ruB",
        "outputId": "1f8f0e9c-701a-40db-8935-2d43f5daa747"
      },
      "outputs": [
        {
          "name": "stdout",
          "output_type": "stream",
          "text": [
            "Requirement already satisfied: pypdf in /usr/local/lib/python3.10/dist-packages (4.3.1)\n",
            "Requirement already satisfied: typing_extensions>=4.0 in /usr/local/lib/python3.10/dist-packages (from pypdf) (4.12.2)\n"
          ]
        }
      ],
      "source": [
        "! pip install pypdf"
      ]
    },
    {
      "cell_type": "code",
      "execution_count": 121,
      "metadata": {
        "colab": {
          "base_uri": "https://localhost:8080/"
        },
        "collapsed": true,
        "id": "LXOeaEcc3yjN",
        "outputId": "b9d182a2-8476-4746-8dff-e0714d2af7c6"
      },
      "outputs": [
        {
          "name": "stdout",
          "output_type": "stream",
          "text": [
            "Requirement already satisfied: openai in /usr/local/lib/python3.10/dist-packages (1.38.0)\n",
            "Requirement already satisfied: anyio<5,>=3.5.0 in /usr/local/lib/python3.10/dist-packages (from openai) (3.7.1)\n",
            "Requirement already satisfied: distro<2,>=1.7.0 in /usr/lib/python3/dist-packages (from openai) (1.7.0)\n",
            "Requirement already satisfied: httpx<1,>=0.23.0 in /usr/local/lib/python3.10/dist-packages (from openai) (0.27.0)\n",
            "Requirement already satisfied: pydantic<3,>=1.9.0 in /usr/local/lib/python3.10/dist-packages (from openai) (2.8.2)\n",
            "Requirement already satisfied: sniffio in /usr/local/lib/python3.10/dist-packages (from openai) (1.3.1)\n",
            "Requirement already satisfied: tqdm>4 in /usr/local/lib/python3.10/dist-packages (from openai) (4.66.4)\n",
            "Requirement already satisfied: typing-extensions<5,>=4.7 in /usr/local/lib/python3.10/dist-packages (from openai) (4.12.2)\n",
            "Requirement already satisfied: idna>=2.8 in /usr/local/lib/python3.10/dist-packages (from anyio<5,>=3.5.0->openai) (3.7)\n",
            "Requirement already satisfied: exceptiongroup in /usr/local/lib/python3.10/dist-packages (from anyio<5,>=3.5.0->openai) (1.2.2)\n",
            "Requirement already satisfied: certifi in /usr/local/lib/python3.10/dist-packages (from httpx<1,>=0.23.0->openai) (2024.7.4)\n",
            "Requirement already satisfied: httpcore==1.* in /usr/local/lib/python3.10/dist-packages (from httpx<1,>=0.23.0->openai) (1.0.5)\n",
            "Requirement already satisfied: h11<0.15,>=0.13 in /usr/local/lib/python3.10/dist-packages (from httpcore==1.*->httpx<1,>=0.23.0->openai) (0.14.0)\n",
            "Requirement already satisfied: annotated-types>=0.4.0 in /usr/local/lib/python3.10/dist-packages (from pydantic<3,>=1.9.0->openai) (0.7.0)\n",
            "Requirement already satisfied: pydantic-core==2.20.1 in /usr/local/lib/python3.10/dist-packages (from pydantic<3,>=1.9.0->openai) (2.20.1)\n"
          ]
        }
      ],
      "source": [
        "!pip install openai"
      ]
    },
    {
      "cell_type": "code",
      "execution_count": 122,
      "metadata": {
        "colab": {
          "base_uri": "https://localhost:8080/"
        },
        "collapsed": true,
        "id": "7Oqcn5zn30Ts",
        "outputId": "01931ba8-884f-41ad-9f3e-a7777245f63d"
      },
      "outputs": [
        {
          "name": "stdout",
          "output_type": "stream",
          "text": [
            "Requirement already satisfied: tiktoken in /usr/local/lib/python3.10/dist-packages (0.7.0)\n",
            "Requirement already satisfied: regex>=2022.1.18 in /usr/local/lib/python3.10/dist-packages (from tiktoken) (2024.5.15)\n",
            "Requirement already satisfied: requests>=2.26.0 in /usr/local/lib/python3.10/dist-packages (from tiktoken) (2.31.0)\n",
            "Requirement already satisfied: charset-normalizer<4,>=2 in /usr/local/lib/python3.10/dist-packages (from requests>=2.26.0->tiktoken) (3.3.2)\n",
            "Requirement already satisfied: idna<4,>=2.5 in /usr/local/lib/python3.10/dist-packages (from requests>=2.26.0->tiktoken) (3.7)\n",
            "Requirement already satisfied: urllib3<3,>=1.21.1 in /usr/local/lib/python3.10/dist-packages (from requests>=2.26.0->tiktoken) (2.0.7)\n",
            "Requirement already satisfied: certifi>=2017.4.17 in /usr/local/lib/python3.10/dist-packages (from requests>=2.26.0->tiktoken) (2024.7.4)\n"
          ]
        }
      ],
      "source": [
        "!pip install tiktoken"
      ]
    },
    {
      "cell_type": "code",
      "execution_count": 123,
      "metadata": {
        "colab": {
          "base_uri": "https://localhost:8080/"
        },
        "collapsed": true,
        "id": "QweQ0wPV34V4",
        "outputId": "aef01901-c9c5-4e17-b872-3994be407245"
      },
      "outputs": [
        {
          "name": "stdout",
          "output_type": "stream",
          "text": [
            "Requirement already satisfied: docarray in /usr/local/lib/python3.10/dist-packages (0.40.0)\n",
            "Requirement already satisfied: numpy>=1.17.3 in /usr/local/lib/python3.10/dist-packages (from docarray) (1.26.4)\n",
            "Requirement already satisfied: orjson>=3.8.2 in /usr/local/lib/python3.10/dist-packages (from docarray) (3.10.6)\n",
            "Requirement already satisfied: pydantic>=1.10.8 in /usr/local/lib/python3.10/dist-packages (from docarray) (2.8.2)\n",
            "Requirement already satisfied: rich>=13.1.0 in /usr/local/lib/python3.10/dist-packages (from docarray) (13.7.1)\n",
            "Requirement already satisfied: types-requests>=2.28.11.6 in /usr/local/lib/python3.10/dist-packages (from docarray) (2.32.0.20240712)\n",
            "Requirement already satisfied: typing-inspect>=0.8.0 in /usr/local/lib/python3.10/dist-packages (from docarray) (0.9.0)\n",
            "Requirement already satisfied: annotated-types>=0.4.0 in /usr/local/lib/python3.10/dist-packages (from pydantic>=1.10.8->docarray) (0.7.0)\n",
            "Requirement already satisfied: pydantic-core==2.20.1 in /usr/local/lib/python3.10/dist-packages (from pydantic>=1.10.8->docarray) (2.20.1)\n",
            "Requirement already satisfied: typing-extensions>=4.6.1 in /usr/local/lib/python3.10/dist-packages (from pydantic>=1.10.8->docarray) (4.12.2)\n",
            "Requirement already satisfied: markdown-it-py>=2.2.0 in /usr/local/lib/python3.10/dist-packages (from rich>=13.1.0->docarray) (3.0.0)\n",
            "Requirement already satisfied: pygments<3.0.0,>=2.13.0 in /usr/local/lib/python3.10/dist-packages (from rich>=13.1.0->docarray) (2.16.1)\n",
            "Requirement already satisfied: urllib3>=2 in /usr/local/lib/python3.10/dist-packages (from types-requests>=2.28.11.6->docarray) (2.0.7)\n",
            "Requirement already satisfied: mypy-extensions>=0.3.0 in /usr/local/lib/python3.10/dist-packages (from typing-inspect>=0.8.0->docarray) (1.0.0)\n",
            "Requirement already satisfied: mdurl~=0.1 in /usr/local/lib/python3.10/dist-packages (from markdown-it-py>=2.2.0->rich>=13.1.0->docarray) (0.1.2)\n"
          ]
        }
      ],
      "source": [
        "!pip install -U docarray"
      ]
    },
    {
      "cell_type": "code",
      "execution_count": 126,
      "metadata": {
        "id": "hz2mLL2K4N2w"
      },
      "outputs": [],
      "source": [
        "import openai\n",
        "import os\n",
        "os.environ['OPENAI_API_KEY'] = my_key"
      ]
    },
    {
      "cell_type": "code",
      "execution_count": 127,
      "metadata": {
        "id": "uAgbYc1k4SFc"
      },
      "outputs": [],
      "source": [
        "llm_name = \"gpt-3.5-turbo\""
      ]
    },
    {
      "cell_type": "code",
      "execution_count": 128,
      "metadata": {
        "colab": {
          "base_uri": "https://localhost:8080/"
        },
        "collapsed": true,
        "id": "42OVwWZytWKf",
        "outputId": "d6544896-40aa-4233-da95-e861f661d74f"
      },
      "outputs": [
        {
          "name": "stdout",
          "output_type": "stream",
          "text": [
            "Requirement already satisfied: langchain in /usr/local/lib/python3.10/dist-packages (0.2.12)\n",
            "Requirement already satisfied: langchain-community in /usr/local/lib/python3.10/dist-packages (0.2.11)\n",
            "Requirement already satisfied: PyYAML>=5.3 in /usr/local/lib/python3.10/dist-packages (from langchain) (6.0.1)\n",
            "Requirement already satisfied: SQLAlchemy<3,>=1.4 in /usr/local/lib/python3.10/dist-packages (from langchain) (2.0.31)\n",
            "Requirement already satisfied: aiohttp<4.0.0,>=3.8.3 in /usr/local/lib/python3.10/dist-packages (from langchain) (3.9.5)\n",
            "Requirement already satisfied: async-timeout<5.0.0,>=4.0.0 in /usr/local/lib/python3.10/dist-packages (from langchain) (4.0.3)\n",
            "Requirement already satisfied: langchain-core<0.3.0,>=0.2.27 in /usr/local/lib/python3.10/dist-packages (from langchain) (0.2.28)\n",
            "Requirement already satisfied: langchain-text-splitters<0.3.0,>=0.2.0 in /usr/local/lib/python3.10/dist-packages (from langchain) (0.2.2)\n",
            "Requirement already satisfied: langsmith<0.2.0,>=0.1.17 in /usr/local/lib/python3.10/dist-packages (from langchain) (0.1.96)\n",
            "Requirement already satisfied: numpy<2,>=1 in /usr/local/lib/python3.10/dist-packages (from langchain) (1.26.4)\n",
            "Requirement already satisfied: pydantic<3,>=1 in /usr/local/lib/python3.10/dist-packages (from langchain) (2.8.2)\n",
            "Requirement already satisfied: requests<3,>=2 in /usr/local/lib/python3.10/dist-packages (from langchain) (2.31.0)\n",
            "Requirement already satisfied: tenacity!=8.4.0,<9.0.0,>=8.1.0 in /usr/local/lib/python3.10/dist-packages (from langchain) (8.5.0)\n",
            "Requirement already satisfied: dataclasses-json<0.7,>=0.5.7 in /usr/local/lib/python3.10/dist-packages (from langchain-community) (0.6.7)\n",
            "Requirement already satisfied: aiosignal>=1.1.2 in /usr/local/lib/python3.10/dist-packages (from aiohttp<4.0.0,>=3.8.3->langchain) (1.3.1)\n",
            "Requirement already satisfied: attrs>=17.3.0 in /usr/local/lib/python3.10/dist-packages (from aiohttp<4.0.0,>=3.8.3->langchain) (23.2.0)\n",
            "Requirement already satisfied: frozenlist>=1.1.1 in /usr/local/lib/python3.10/dist-packages (from aiohttp<4.0.0,>=3.8.3->langchain) (1.4.1)\n",
            "Requirement already satisfied: multidict<7.0,>=4.5 in /usr/local/lib/python3.10/dist-packages (from aiohttp<4.0.0,>=3.8.3->langchain) (6.0.5)\n",
            "Requirement already satisfied: yarl<2.0,>=1.0 in /usr/local/lib/python3.10/dist-packages (from aiohttp<4.0.0,>=3.8.3->langchain) (1.9.4)\n",
            "Requirement already satisfied: marshmallow<4.0.0,>=3.18.0 in /usr/local/lib/python3.10/dist-packages (from dataclasses-json<0.7,>=0.5.7->langchain-community) (3.21.3)\n",
            "Requirement already satisfied: typing-inspect<1,>=0.4.0 in /usr/local/lib/python3.10/dist-packages (from dataclasses-json<0.7,>=0.5.7->langchain-community) (0.9.0)\n",
            "Requirement already satisfied: jsonpatch<2.0,>=1.33 in /usr/local/lib/python3.10/dist-packages (from langchain-core<0.3.0,>=0.2.27->langchain) (1.33)\n",
            "Requirement already satisfied: packaging<25,>=23.2 in /usr/local/lib/python3.10/dist-packages (from langchain-core<0.3.0,>=0.2.27->langchain) (24.1)\n",
            "Requirement already satisfied: typing-extensions>=4.7 in /usr/local/lib/python3.10/dist-packages (from langchain-core<0.3.0,>=0.2.27->langchain) (4.12.2)\n",
            "Requirement already satisfied: orjson<4.0.0,>=3.9.14 in /usr/local/lib/python3.10/dist-packages (from langsmith<0.2.0,>=0.1.17->langchain) (3.10.6)\n",
            "Requirement already satisfied: annotated-types>=0.4.0 in /usr/local/lib/python3.10/dist-packages (from pydantic<3,>=1->langchain) (0.7.0)\n",
            "Requirement already satisfied: pydantic-core==2.20.1 in /usr/local/lib/python3.10/dist-packages (from pydantic<3,>=1->langchain) (2.20.1)\n",
            "Requirement already satisfied: charset-normalizer<4,>=2 in /usr/local/lib/python3.10/dist-packages (from requests<3,>=2->langchain) (3.3.2)\n",
            "Requirement already satisfied: idna<4,>=2.5 in /usr/local/lib/python3.10/dist-packages (from requests<3,>=2->langchain) (3.7)\n",
            "Requirement already satisfied: urllib3<3,>=1.21.1 in /usr/local/lib/python3.10/dist-packages (from requests<3,>=2->langchain) (2.0.7)\n",
            "Requirement already satisfied: certifi>=2017.4.17 in /usr/local/lib/python3.10/dist-packages (from requests<3,>=2->langchain) (2024.7.4)\n",
            "Requirement already satisfied: greenlet!=0.4.17 in /usr/local/lib/python3.10/dist-packages (from SQLAlchemy<3,>=1.4->langchain) (3.0.3)\n",
            "Requirement already satisfied: jsonpointer>=1.9 in /usr/local/lib/python3.10/dist-packages (from jsonpatch<2.0,>=1.33->langchain-core<0.3.0,>=0.2.27->langchain) (3.0.0)\n",
            "Requirement already satisfied: mypy-extensions>=0.3.0 in /usr/local/lib/python3.10/dist-packages (from typing-inspect<1,>=0.4.0->dataclasses-json<0.7,>=0.5.7->langchain-community) (1.0.0)\n"
          ]
        }
      ],
      "source": [
        "!pip install -U langchain langchain-community\n"
      ]
    },
    {
      "cell_type": "code",
      "execution_count": 129,
      "metadata": {
        "id": "2B74NaGL4UCZ"
      },
      "outputs": [],
      "source": [
        "from langchain.embeddings.openai import OpenAIEmbeddings\n",
        "from langchain.text_splitter import CharacterTextSplitter, RecursiveCharacterTextSplitter\n",
        "from langchain.vectorstores import DocArrayInMemorySearch\n",
        "from langchain.document_loaders import TextLoader\n",
        "from langchain.chains import RetrievalQA,  ConversationalRetrievalChain\n",
        "from langchain.memory import ConversationBufferMemory\n",
        "from langchain.chat_models import ChatOpenAI\n",
        "from langchain.document_loaders import TextLoader\n",
        "from langchain.document_loaders import PyPDFLoader\n"
      ]
    },
    {
      "cell_type": "markdown",
      "metadata": {
        "id": "24WSVOCKGaG0"
      },
      "source": [
        "# **Define Functions**"
      ]
    },
    {
      "cell_type": "code",
      "execution_count": 130,
      "metadata": {
        "id": "c0BVQ-ux4WEm"
      },
      "outputs": [],
      "source": [
        "def load_db(file, chain_type, k):\n",
        "    # load documents\n",
        "    loader = PyPDFLoader(file)\n",
        "    documents = loader.load()\n",
        "    # split documents\n",
        "    text_splitter = RecursiveCharacterTextSplitter(chunk_size=1000, chunk_overlap=150)\n",
        "    docs = text_splitter.split_documents(documents)\n",
        "    # define embedding\n",
        "    embeddings = OpenAIEmbeddings()\n",
        "    # create vector database from data\n",
        "    db = DocArrayInMemorySearch.from_documents(docs, embeddings)\n",
        "    # define retriever\n",
        "    retriever = db.as_retriever(search_type=\"similarity\", search_kwargs={\"k\": k})\n",
        "    # create a chatbot chain. Memory is managed externally.\n",
        "    qa = ConversationalRetrievalChain.from_llm(\n",
        "        llm=ChatOpenAI(model_name=llm_name, temperature=0),\n",
        "        chain_type=chain_type,\n",
        "        retriever=retriever,\n",
        "        return_source_documents=True,\n",
        "        return_generated_question=True,\n",
        "    )\n",
        "    return qa"
      ]
    },
    {
      "cell_type": "markdown",
      "metadata": {
        "id": "jyxcAe4uGgAu"
      },
      "source": [
        "# **Define the ChatBotApp Class**"
      ]
    },
    {
      "cell_type": "code",
      "execution_count": 131,
      "metadata": {
        "id": "sBYtZmEC4bSS"
      },
      "outputs": [],
      "source": [
        "import panel as pn\n",
        "import param\n",
        "\n",
        "class cbfs(param.Parameterized):\n",
        "    chat_history = param.List([])\n",
        "    answer = param.String(\"\")\n",
        "    db_query  = param.String(\"\")\n",
        "    db_response = param.List([])\n",
        "\n",
        "    def __init__(self,  **params):\n",
        "        super(cbfs, self).__init__( **params)\n",
        "        self.panels = []\n",
        "        self.loaded_file = \"/content/drive/MyDrive/DataRoadMap/MachineLearning-Lecture01.pdf\"\n",
        "        self.qa = load_db(self.loaded_file,\"stuff\", 4)\n",
        "\n",
        "    def call_load_db(self, count):\n",
        "        if count == 0 or file_input.value is None:  # init or no file specified :\n",
        "            return pn.pane.Markdown(f\"Loaded File: {self.loaded_file}\")\n",
        "        else:\n",
        "            file_input.save(\"temp.pdf\")  # local copy\n",
        "            self.loaded_file = file_input.filename\n",
        "            button_load.button_style=\"outline\"\n",
        "            self.qa = load_db(\"temp.pdf\", \"stuff\", 4)\n",
        "            button_load.button_style=\"solid\"\n",
        "        self.clr_history()\n",
        "        return pn.pane.Markdown(f\"Loaded File: {self.loaded_file}\")\n",
        "\n",
        "    def convchain(self, query):\n",
        "        if not query:\n",
        "            return pn.WidgetBox(pn.Row('User:', pn.pane.Markdown(\"\", width=600)), scroll=True)\n",
        "        result = self.qa({\"question\": query, \"chat_history\": self.chat_history})\n",
        "        self.chat_history.extend([(query, result[\"answer\"])])\n",
        "        self.db_query = result[\"generated_question\"]\n",
        "        self.db_response = result[\"source_documents\"]\n",
        "        self.answer = result['answer']\n",
        "        self.panels.extend([\n",
        "            pn.Row('User:', pn.pane.Markdown(query, width=600)),\n",
        "            pn.Row('ChatBot:', pn.pane.Markdown(self.answer, width=600, styles={'background-color': '#F6F6F6'}))\n",
        "        ])\n",
        "        inp.value = ''  #clears loading indicator when cleared\n",
        "        return pn.WidgetBox(*self.panels,scroll=True)\n",
        "\n",
        "    @param.depends('db_query ', )\n",
        "    def get_lquest(self):\n",
        "        if not self.db_query :\n",
        "            return pn.Column(\n",
        "                pn.Row(pn.pane.Markdown(f\"Last question to DB:\", styles={'background-color': '#F6F6F6'})),\n",
        "                pn.Row(pn.pane.Str(\"no DB accesses so far\"))\n",
        "            )\n",
        "        return pn.Column(\n",
        "            pn.Row(pn.pane.Markdown(f\"DB query:\", styles={'background-color': '#F6F6F6'})),\n",
        "            pn.pane.Str(self.db_query )\n",
        "        )\n",
        "\n",
        "    @param.depends('db_response', )\n",
        "    def get_sources(self):\n",
        "        if not self.db_response:\n",
        "            return\n",
        "        rlist=[pn.Row(pn.pane.Markdown(f\"Result of DB lookup:\", styles={'background-color': '#F6F6F6'}))]\n",
        "        for doc in self.db_response:\n",
        "            rlist.append(pn.Row(pn.pane.Str(doc)))\n",
        "        return pn.WidgetBox(*rlist, width=600, scroll=True)\n",
        "\n",
        "    @param.depends('convchain', 'clr_history')\n",
        "    def get_chats(self):\n",
        "        if not self.chat_history:\n",
        "            return pn.WidgetBox(pn.Row(pn.pane.Str(\"No History Yet\")), width=600, scroll=True)\n",
        "        rlist=[pn.Row(pn.pane.Markdown(f\"Current Chat History variable\", styles={'background-color': '#F6F6F6'}))]\n",
        "        for exchange in self.chat_history:\n",
        "            rlist.append(pn.Row(pn.pane.Str(exchange)))\n",
        "        return pn.WidgetBox(*rlist, width=600, scroll=True)\n",
        "\n",
        "    def clr_history(self,count=0):\n",
        "        self.chat_history = []\n",
        "        return"
      ]
    },
    {
      "cell_type": "markdown",
      "metadata": {
        "id": "5bFsI6S8Gpyi"
      },
      "source": [
        "# **Instantiate and Display the App**"
      ]
    },
    {
      "cell_type": "code",
      "execution_count": 132,
      "metadata": {
        "colab": {
          "base_uri": "https://localhost:8080/"
        },
        "collapsed": true,
        "id": "tbPhkT25vRcz",
        "outputId": "92a6385d-b9b7-4715-c62f-4630ba16459a"
      },
      "outputs": [
        {
          "name": "stdout",
          "output_type": "stream",
          "text": [
            "Requirement already satisfied: jupyter_bokeh in /usr/local/lib/python3.10/dist-packages (4.0.5)\n",
            "Requirement already satisfied: bokeh==3.* in /usr/local/lib/python3.10/dist-packages (from jupyter_bokeh) (3.4.3)\n",
            "Requirement already satisfied: ipywidgets==8.* in /usr/local/lib/python3.10/dist-packages (from jupyter_bokeh) (8.1.3)\n",
            "Requirement already satisfied: Jinja2>=2.9 in /usr/local/lib/python3.10/dist-packages (from bokeh==3.*->jupyter_bokeh) (3.1.4)\n",
            "Requirement already satisfied: contourpy>=1.2 in /usr/local/lib/python3.10/dist-packages (from bokeh==3.*->jupyter_bokeh) (1.2.1)\n",
            "Requirement already satisfied: numpy>=1.16 in /usr/local/lib/python3.10/dist-packages (from bokeh==3.*->jupyter_bokeh) (1.26.4)\n",
            "Requirement already satisfied: packaging>=16.8 in /usr/local/lib/python3.10/dist-packages (from bokeh==3.*->jupyter_bokeh) (24.1)\n",
            "Requirement already satisfied: pandas>=1.2 in /usr/local/lib/python3.10/dist-packages (from bokeh==3.*->jupyter_bokeh) (2.1.4)\n",
            "Requirement already satisfied: pillow>=7.1.0 in /usr/local/lib/python3.10/dist-packages (from bokeh==3.*->jupyter_bokeh) (9.4.0)\n",
            "Requirement already satisfied: PyYAML>=3.10 in /usr/local/lib/python3.10/dist-packages (from bokeh==3.*->jupyter_bokeh) (6.0.1)\n",
            "Requirement already satisfied: tornado>=6.2 in /usr/local/lib/python3.10/dist-packages (from bokeh==3.*->jupyter_bokeh) (6.3.3)\n",
            "Requirement already satisfied: xyzservices>=2021.09.1 in /usr/local/lib/python3.10/dist-packages (from bokeh==3.*->jupyter_bokeh) (2024.6.0)\n",
            "Requirement already satisfied: comm>=0.1.3 in /usr/local/lib/python3.10/dist-packages (from ipywidgets==8.*->jupyter_bokeh) (0.2.2)\n",
            "Requirement already satisfied: ipython>=6.1.0 in /usr/local/lib/python3.10/dist-packages (from ipywidgets==8.*->jupyter_bokeh) (7.34.0)\n",
            "Requirement already satisfied: traitlets>=4.3.1 in /usr/local/lib/python3.10/dist-packages (from ipywidgets==8.*->jupyter_bokeh) (5.7.1)\n",
            "Requirement already satisfied: widgetsnbextension~=4.0.11 in /usr/local/lib/python3.10/dist-packages (from ipywidgets==8.*->jupyter_bokeh) (4.0.11)\n",
            "Requirement already satisfied: jupyterlab-widgets~=3.0.11 in /usr/local/lib/python3.10/dist-packages (from ipywidgets==8.*->jupyter_bokeh) (3.0.11)\n",
            "Requirement already satisfied: setuptools>=18.5 in /usr/local/lib/python3.10/dist-packages (from ipython>=6.1.0->ipywidgets==8.*->jupyter_bokeh) (71.0.4)\n",
            "Requirement already satisfied: jedi>=0.16 in /usr/local/lib/python3.10/dist-packages (from ipython>=6.1.0->ipywidgets==8.*->jupyter_bokeh) (0.19.1)\n",
            "Requirement already satisfied: decorator in /usr/local/lib/python3.10/dist-packages (from ipython>=6.1.0->ipywidgets==8.*->jupyter_bokeh) (4.4.2)\n",
            "Requirement already satisfied: pickleshare in /usr/local/lib/python3.10/dist-packages (from ipython>=6.1.0->ipywidgets==8.*->jupyter_bokeh) (0.7.5)\n",
            "Requirement already satisfied: prompt-toolkit!=3.0.0,!=3.0.1,<3.1.0,>=2.0.0 in /usr/local/lib/python3.10/dist-packages (from ipython>=6.1.0->ipywidgets==8.*->jupyter_bokeh) (3.0.47)\n",
            "Requirement already satisfied: pygments in /usr/local/lib/python3.10/dist-packages (from ipython>=6.1.0->ipywidgets==8.*->jupyter_bokeh) (2.16.1)\n",
            "Requirement already satisfied: backcall in /usr/local/lib/python3.10/dist-packages (from ipython>=6.1.0->ipywidgets==8.*->jupyter_bokeh) (0.2.0)\n",
            "Requirement already satisfied: matplotlib-inline in /usr/local/lib/python3.10/dist-packages (from ipython>=6.1.0->ipywidgets==8.*->jupyter_bokeh) (0.1.7)\n",
            "Requirement already satisfied: pexpect>4.3 in /usr/local/lib/python3.10/dist-packages (from ipython>=6.1.0->ipywidgets==8.*->jupyter_bokeh) (4.9.0)\n",
            "Requirement already satisfied: MarkupSafe>=2.0 in /usr/local/lib/python3.10/dist-packages (from Jinja2>=2.9->bokeh==3.*->jupyter_bokeh) (2.1.5)\n",
            "Requirement already satisfied: python-dateutil>=2.8.2 in /usr/local/lib/python3.10/dist-packages (from pandas>=1.2->bokeh==3.*->jupyter_bokeh) (2.8.2)\n",
            "Requirement already satisfied: pytz>=2020.1 in /usr/local/lib/python3.10/dist-packages (from pandas>=1.2->bokeh==3.*->jupyter_bokeh) (2024.1)\n",
            "Requirement already satisfied: tzdata>=2022.1 in /usr/local/lib/python3.10/dist-packages (from pandas>=1.2->bokeh==3.*->jupyter_bokeh) (2024.1)\n",
            "Requirement already satisfied: parso<0.9.0,>=0.8.3 in /usr/local/lib/python3.10/dist-packages (from jedi>=0.16->ipython>=6.1.0->ipywidgets==8.*->jupyter_bokeh) (0.8.4)\n",
            "Requirement already satisfied: ptyprocess>=0.5 in /usr/local/lib/python3.10/dist-packages (from pexpect>4.3->ipython>=6.1.0->ipywidgets==8.*->jupyter_bokeh) (0.7.0)\n",
            "Requirement already satisfied: wcwidth in /usr/local/lib/python3.10/dist-packages (from prompt-toolkit!=3.0.0,!=3.0.1,<3.1.0,>=2.0.0->ipython>=6.1.0->ipywidgets==8.*->jupyter_bokeh) (0.2.13)\n",
            "Requirement already satisfied: six>=1.5 in /usr/local/lib/python3.10/dist-packages (from python-dateutil>=2.8.2->pandas>=1.2->bokeh==3.*->jupyter_bokeh) (1.16.0)\n"
          ]
        }
      ],
      "source": [
        " !pip install jupyter_bokeh"
      ]
    },
    {
      "cell_type": "code",
      "execution_count": 133,
      "metadata": {
        "colab": {
          "base_uri": "https://localhost:8080/",
          "height": 17
        },
        "id": "CuGsXxyO47Bx",
        "outputId": "dee0b7fc-ea45-45a7-bfe2-6bfbc8c49597"
      },
      "outputs": [
        {
          "data": {
            "application/javascript": "(function(root) {\n  function now() {\n    return new Date();\n  }\n\n  var force = true;\n  var py_version = '3.4.3'.replace('rc', '-rc.').replace('.dev', '-dev.');\n  var reloading = false;\n  var Bokeh = root.Bokeh;\n\n  if (typeof (root._bokeh_timeout) === \"undefined\" || force) {\n    root._bokeh_timeout = Date.now() + 5000;\n    root._bokeh_failed_load = false;\n  }\n\n  function run_callbacks() {\n    try {\n      root._bokeh_onload_callbacks.forEach(function(callback) {\n        if (callback != null)\n          callback();\n      });\n    } finally {\n      delete root._bokeh_onload_callbacks;\n    }\n    console.debug(\"Bokeh: all callbacks have finished\");\n  }\n\n  function load_libs(css_urls, js_urls, js_modules, js_exports, callback) {\n    if (css_urls == null) css_urls = [];\n    if (js_urls == null) js_urls = [];\n    if (js_modules == null) js_modules = [];\n    if (js_exports == null) js_exports = {};\n\n    root._bokeh_onload_callbacks.push(callback);\n\n    if (root._bokeh_is_loading > 0) {\n      console.debug(\"Bokeh: BokehJS is being loaded, scheduling callback at\", now());\n      return null;\n    }\n    if (js_urls.length === 0 && js_modules.length === 0 && Object.keys(js_exports).length === 0) {\n      run_callbacks();\n      return null;\n    }\n    if (!reloading) {\n      console.debug(\"Bokeh: BokehJS not loaded, scheduling load and callback at\", now());\n    }\n\n    function on_load() {\n      root._bokeh_is_loading--;\n      if (root._bokeh_is_loading === 0) {\n        console.debug(\"Bokeh: all BokehJS libraries/stylesheets loaded\");\n        run_callbacks()\n      }\n    }\n    window._bokeh_on_load = on_load\n\n    function on_error() {\n      console.error(\"failed to load \" + url);\n    }\n\n    var skip = [];\n    if (window.requirejs) {\n      window.requirejs.config({'packages': {}, 'paths': {}, 'shim': {}});\n      root._bokeh_is_loading = css_urls.length + 0;\n    } else {\n      root._bokeh_is_loading = css_urls.length + js_urls.length + js_modules.length + Object.keys(js_exports).length;\n    }\n\n    var existing_stylesheets = []\n    var links = document.getElementsByTagName('link')\n    for (var i = 0; i < links.length; i++) {\n      var link = links[i]\n      if (link.href != null) {\n\texisting_stylesheets.push(link.href)\n      }\n    }\n    for (var i = 0; i < css_urls.length; i++) {\n      var url = css_urls[i];\n      if (existing_stylesheets.indexOf(url) !== -1) {\n\ton_load()\n\tcontinue;\n      }\n      const element = document.createElement(\"link\");\n      element.onload = on_load;\n      element.onerror = on_error;\n      element.rel = \"stylesheet\";\n      element.type = \"text/css\";\n      element.href = url;\n      console.debug(\"Bokeh: injecting link tag for BokehJS stylesheet: \", url);\n      document.body.appendChild(element);\n    }    var existing_scripts = []\n    var scripts = document.getElementsByTagName('script')\n    for (var i = 0; i < scripts.length; i++) {\n      var script = scripts[i]\n      if (script.src != null) {\n\texisting_scripts.push(script.src)\n      }\n    }\n    for (var i = 0; i < js_urls.length; i++) {\n      var url = js_urls[i];\n      if (skip.indexOf(url) !== -1 || existing_scripts.indexOf(url) !== -1) {\n\tif (!window.requirejs) {\n\t  on_load();\n\t}\n\tcontinue;\n      }\n      var element = document.createElement('script');\n      element.onload = on_load;\n      element.onerror = on_error;\n      element.async = false;\n      element.src = url;\n      console.debug(\"Bokeh: injecting script tag for BokehJS library: \", url);\n      document.head.appendChild(element);\n    }\n    for (var i = 0; i < js_modules.length; i++) {\n      var url = js_modules[i];\n      if (skip.indexOf(url) !== -1 || existing_scripts.indexOf(url) !== -1) {\n\tif (!window.requirejs) {\n\t  on_load();\n\t}\n\tcontinue;\n      }\n      var element = document.createElement('script');\n      element.onload = on_load;\n      element.onerror = on_error;\n      element.async = false;\n      element.src = url;\n      element.type = \"module\";\n      console.debug(\"Bokeh: injecting script tag for BokehJS library: \", url);\n      document.head.appendChild(element);\n    }\n    for (const name in js_exports) {\n      var url = js_exports[name];\n      if (skip.indexOf(url) >= 0 || root[name] != null) {\n\tif (!window.requirejs) {\n\t  on_load();\n\t}\n\tcontinue;\n      }\n      var element = document.createElement('script');\n      element.onerror = on_error;\n      element.async = false;\n      element.type = \"module\";\n      console.debug(\"Bokeh: injecting script tag for BokehJS library: \", url);\n      element.textContent = `\n      import ${name} from \"${url}\"\n      window.${name} = ${name}\n      window._bokeh_on_load()\n      `\n      document.head.appendChild(element);\n    }\n    if (!js_urls.length && !js_modules.length) {\n      on_load()\n    }\n  };\n\n  function inject_raw_css(css) {\n    const element = document.createElement(\"style\");\n    element.appendChild(document.createTextNode(css));\n    document.body.appendChild(element);\n  }\n\n  var js_urls = [\"https://cdn.bokeh.org/bokeh/release/bokeh-3.4.3.min.js\", \"https://cdn.bokeh.org/bokeh/release/bokeh-gl-3.4.3.min.js\", \"https://cdn.bokeh.org/bokeh/release/bokeh-widgets-3.4.3.min.js\", \"https://cdn.bokeh.org/bokeh/release/bokeh-tables-3.4.3.min.js\", \"https://cdn.holoviz.org/panel/1.4.4/dist/panel.min.js\"];\n  var js_modules = [];\n  var js_exports = {};\n  var css_urls = [];\n  var inline_js = [    function(Bokeh) {\n      Bokeh.set_log_level(\"info\");\n    },\nfunction(Bokeh) {} // ensure no trailing comma for IE\n  ];\n\n  function run_inline_js() {\n    if ((root.Bokeh !== undefined) || (force === true)) {\n      for (var i = 0; i < inline_js.length; i++) {\n\ttry {\n          inline_js[i].call(root, root.Bokeh);\n\t} catch(e) {\n\t  if (!reloading) {\n\t    throw e;\n\t  }\n\t}\n      }\n      // Cache old bokeh versions\n      if (Bokeh != undefined && !reloading) {\n\tvar NewBokeh = root.Bokeh;\n\tif (Bokeh.versions === undefined) {\n\t  Bokeh.versions = new Map();\n\t}\n\tif (NewBokeh.version !== Bokeh.version) {\n\t  Bokeh.versions.set(NewBokeh.version, NewBokeh)\n\t}\n\troot.Bokeh = Bokeh;\n      }} else if (Date.now() < root._bokeh_timeout) {\n      setTimeout(run_inline_js, 100);\n    } else if (!root._bokeh_failed_load) {\n      console.log(\"Bokeh: BokehJS failed to load within specified timeout.\");\n      root._bokeh_failed_load = true;\n    }\n    root._bokeh_is_initializing = false\n  }\n\n  function load_or_wait() {\n    // Implement a backoff loop that tries to ensure we do not load multiple\n    // versions of Bokeh and its dependencies at the same time.\n    // In recent versions we use the root._bokeh_is_initializing flag\n    // to determine whether there is an ongoing attempt to initialize\n    // bokeh, however for backward compatibility we also try to ensure\n    // that we do not start loading a newer (Panel>=1.0 and Bokeh>3) version\n    // before older versions are fully initialized.\n    if (root._bokeh_is_initializing && Date.now() > root._bokeh_timeout) {\n      root._bokeh_is_initializing = false;\n      root._bokeh_onload_callbacks = undefined;\n      console.log(\"Bokeh: BokehJS was loaded multiple times but one version failed to initialize.\");\n      load_or_wait();\n    } else if (root._bokeh_is_initializing || (typeof root._bokeh_is_initializing === \"undefined\" && root._bokeh_onload_callbacks !== undefined)) {\n      setTimeout(load_or_wait, 100);\n    } else {\n      root._bokeh_is_initializing = true\n      root._bokeh_onload_callbacks = []\n      var bokeh_loaded = Bokeh != null && (Bokeh.version === py_version || (Bokeh.versions !== undefined && Bokeh.versions.has(py_version)));\n      if (!reloading && !bokeh_loaded) {\n\troot.Bokeh = undefined;\n      }\n      load_libs(css_urls, js_urls, js_modules, js_exports, function() {\n\tconsole.debug(\"Bokeh: BokehJS plotting callback run at\", now());\n\trun_inline_js();\n      });\n    }\n  }\n  // Give older versions of the autoload script a head-start to ensure\n  // they initialize before we start loading newer version.\n  setTimeout(load_or_wait, 100)\n}(window));",
            "application/vnd.holoviews_load.v0+json": ""
          },
          "metadata": {},
          "output_type": "display_data"
        },
        {
          "data": {
            "application/javascript": "\nif ((window.PyViz === undefined) || (window.PyViz instanceof HTMLElement)) {\n  window.PyViz = {comms: {}, comm_status:{}, kernels:{}, receivers: {}, plot_index: []}\n}\n\n\n    function JupyterCommManager() {\n    }\n\n    JupyterCommManager.prototype.register_target = function(plot_id, comm_id, msg_handler) {\n      if (window.comm_manager || ((window.Jupyter !== undefined) && (Jupyter.notebook.kernel != null))) {\n        var comm_manager = window.comm_manager || Jupyter.notebook.kernel.comm_manager;\n        comm_manager.register_target(comm_id, function(comm) {\n          comm.on_msg(msg_handler);\n        });\n      } else if ((plot_id in window.PyViz.kernels) && (window.PyViz.kernels[plot_id])) {\n        window.PyViz.kernels[plot_id].registerCommTarget(comm_id, function(comm) {\n          comm.onMsg = msg_handler;\n        });\n      } else if (typeof google != 'undefined' && google.colab.kernel != null) {\n        google.colab.kernel.comms.registerTarget(comm_id, (comm) => {\n          var messages = comm.messages[Symbol.asyncIterator]();\n          function processIteratorResult(result) {\n            var message = result.value;\n            console.log(message)\n            var content = {data: message.data, comm_id};\n            var buffers = []\n            for (var buffer of message.buffers || []) {\n              buffers.push(new DataView(buffer))\n            }\n            var metadata = message.metadata || {};\n            var msg = {content, buffers, metadata}\n            msg_handler(msg);\n            return messages.next().then(processIteratorResult);\n          }\n          return messages.next().then(processIteratorResult);\n        })\n      }\n    }\n\n    JupyterCommManager.prototype.get_client_comm = function(plot_id, comm_id, msg_handler) {\n      if (comm_id in window.PyViz.comms) {\n        return window.PyViz.comms[comm_id];\n      } else if (window.comm_manager || ((window.Jupyter !== undefined) && (Jupyter.notebook.kernel != null))) {\n        var comm_manager = window.comm_manager || Jupyter.notebook.kernel.comm_manager;\n        var comm = comm_manager.new_comm(comm_id, {}, {}, {}, comm_id);\n        if (msg_handler) {\n          comm.on_msg(msg_handler);\n        }\n      } else if ((plot_id in window.PyViz.kernels) && (window.PyViz.kernels[plot_id])) {\n        var comm = window.PyViz.kernels[plot_id].connectToComm(comm_id);\n        comm.open();\n        if (msg_handler) {\n          comm.onMsg = msg_handler;\n        }\n      } else if (typeof google != 'undefined' && google.colab.kernel != null) {\n        var comm_promise = google.colab.kernel.comms.open(comm_id)\n        comm_promise.then((comm) => {\n          window.PyViz.comms[comm_id] = comm;\n          if (msg_handler) {\n            var messages = comm.messages[Symbol.asyncIterator]();\n            function processIteratorResult(result) {\n              var message = result.value;\n              var content = {data: message.data};\n              var metadata = message.metadata || {comm_id};\n              var msg = {content, metadata}\n              msg_handler(msg);\n              return messages.next().then(processIteratorResult);\n            }\n            return messages.next().then(processIteratorResult);\n          }\n        }) \n        var sendClosure = (data, metadata, buffers, disposeOnDone) => {\n          return comm_promise.then((comm) => {\n            comm.send(data, metadata, buffers, disposeOnDone);\n          });\n        };\n        var comm = {\n          send: sendClosure\n        };\n      }\n      window.PyViz.comms[comm_id] = comm;\n      return comm;\n    }\n    window.PyViz.comm_manager = new JupyterCommManager();\n    \n\n\nvar JS_MIME_TYPE = 'application/javascript';\nvar HTML_MIME_TYPE = 'text/html';\nvar EXEC_MIME_TYPE = 'application/vnd.holoviews_exec.v0+json';\nvar CLASS_NAME = 'output';\n\n/**\n * Render data to the DOM node\n */\nfunction render(props, node) {\n  var div = document.createElement(\"div\");\n  var script = document.createElement(\"script\");\n  node.appendChild(div);\n  node.appendChild(script);\n}\n\n/**\n * Handle when a new output is added\n */\nfunction handle_add_output(event, handle) {\n  var output_area = handle.output_area;\n  var output = handle.output;\n  if ((output.data == undefined) || (!output.data.hasOwnProperty(EXEC_MIME_TYPE))) {\n    return\n  }\n  var id = output.metadata[EXEC_MIME_TYPE][\"id\"];\n  var toinsert = output_area.element.find(\".\" + CLASS_NAME.split(' ')[0]);\n  if (id !== undefined) {\n    var nchildren = toinsert.length;\n    var html_node = toinsert[nchildren-1].children[0];\n    html_node.innerHTML = output.data[HTML_MIME_TYPE];\n    var scripts = [];\n    var nodelist = html_node.querySelectorAll(\"script\");\n    for (var i in nodelist) {\n      if (nodelist.hasOwnProperty(i)) {\n        scripts.push(nodelist[i])\n      }\n    }\n\n    scripts.forEach( function (oldScript) {\n      var newScript = document.createElement(\"script\");\n      var attrs = [];\n      var nodemap = oldScript.attributes;\n      for (var j in nodemap) {\n        if (nodemap.hasOwnProperty(j)) {\n          attrs.push(nodemap[j])\n        }\n      }\n      attrs.forEach(function(attr) { newScript.setAttribute(attr.name, attr.value) });\n      newScript.appendChild(document.createTextNode(oldScript.innerHTML));\n      oldScript.parentNode.replaceChild(newScript, oldScript);\n    });\n    if (JS_MIME_TYPE in output.data) {\n      toinsert[nchildren-1].children[1].textContent = output.data[JS_MIME_TYPE];\n    }\n    output_area._hv_plot_id = id;\n    if ((window.Bokeh !== undefined) && (id in Bokeh.index)) {\n      window.PyViz.plot_index[id] = Bokeh.index[id];\n    } else {\n      window.PyViz.plot_index[id] = null;\n    }\n  } else if (output.metadata[EXEC_MIME_TYPE][\"server_id\"] !== undefined) {\n    var bk_div = document.createElement(\"div\");\n    bk_div.innerHTML = output.data[HTML_MIME_TYPE];\n    var script_attrs = bk_div.children[0].attributes;\n    for (var i = 0; i < script_attrs.length; i++) {\n      toinsert[toinsert.length - 1].childNodes[1].setAttribute(script_attrs[i].name, script_attrs[i].value);\n    }\n    // store reference to server id on output_area\n    output_area._bokeh_server_id = output.metadata[EXEC_MIME_TYPE][\"server_id\"];\n  }\n}\n\n/**\n * Handle when an output is cleared or removed\n */\nfunction handle_clear_output(event, handle) {\n  var id = handle.cell.output_area._hv_plot_id;\n  var server_id = handle.cell.output_area._bokeh_server_id;\n  if (((id === undefined) || !(id in PyViz.plot_index)) && (server_id !== undefined)) { return; }\n  var comm = window.PyViz.comm_manager.get_client_comm(\"hv-extension-comm\", \"hv-extension-comm\", function () {});\n  if (server_id !== null) {\n    comm.send({event_type: 'server_delete', 'id': server_id});\n    return;\n  } else if (comm !== null) {\n    comm.send({event_type: 'delete', 'id': id});\n  }\n  delete PyViz.plot_index[id];\n  if ((window.Bokeh !== undefined) & (id in window.Bokeh.index)) {\n    var doc = window.Bokeh.index[id].model.document\n    doc.clear();\n    const i = window.Bokeh.documents.indexOf(doc);\n    if (i > -1) {\n      window.Bokeh.documents.splice(i, 1);\n    }\n  }\n}\n\n/**\n * Handle kernel restart event\n */\nfunction handle_kernel_cleanup(event, handle) {\n  delete PyViz.comms[\"hv-extension-comm\"];\n  window.PyViz.plot_index = {}\n}\n\n/**\n * Handle update_display_data messages\n */\nfunction handle_update_output(event, handle) {\n  handle_clear_output(event, {cell: {output_area: handle.output_area}})\n  handle_add_output(event, handle)\n}\n\nfunction register_renderer(events, OutputArea) {\n  function append_mime(data, metadata, element) {\n    // create a DOM node to render to\n    var toinsert = this.create_output_subarea(\n    metadata,\n    CLASS_NAME,\n    EXEC_MIME_TYPE\n    );\n    this.keyboard_manager.register_events(toinsert);\n    // Render to node\n    var props = {data: data, metadata: metadata[EXEC_MIME_TYPE]};\n    render(props, toinsert[0]);\n    element.append(toinsert);\n    return toinsert\n  }\n\n  events.on('output_added.OutputArea', handle_add_output);\n  events.on('output_updated.OutputArea', handle_update_output);\n  events.on('clear_output.CodeCell', handle_clear_output);\n  events.on('delete.Cell', handle_clear_output);\n  events.on('kernel_ready.Kernel', handle_kernel_cleanup);\n\n  OutputArea.prototype.register_mime_type(EXEC_MIME_TYPE, append_mime, {\n    safe: true,\n    index: 0\n  });\n}\n\nif (window.Jupyter !== undefined) {\n  try {\n    var events = require('base/js/events');\n    var OutputArea = require('notebook/js/outputarea').OutputArea;\n    if (OutputArea.prototype.mime_types().indexOf(EXEC_MIME_TYPE) == -1) {\n      register_renderer(events, OutputArea);\n    }\n  } catch(err) {\n  }\n}\n",
            "application/vnd.holoviews_load.v0+json": ""
          },
          "metadata": {},
          "output_type": "display_data"
        },
        {
          "data": {
            "text/html": [
              "<style>*[data-root-id],\n",
              "*[data-root-id] > * {\n",
              "  box-sizing: border-box;\n",
              "  font-family: var(--jp-ui-font-family);\n",
              "  font-size: var(--jp-ui-font-size1);\n",
              "  color: var(--vscode-editor-foreground, var(--jp-ui-font-color1));\n",
              "}\n",
              "\n",
              "/* Override VSCode background color */\n",
              ".cell-output-ipywidget-background:has(\n",
              "    > .cell-output-ipywidget-background > .lm-Widget > *[data-root-id]\n",
              "  ),\n",
              ".cell-output-ipywidget-background:has(> .lm-Widget > *[data-root-id]) {\n",
              "  background-color: transparent !important;\n",
              "}\n",
              "</style>"
            ]
          },
          "metadata": {},
          "output_type": "display_data"
        },
        {
          "data": {
            "application/vnd.holoviews_exec.v0+json": "",
            "text/html": [
              "<div id='e805a059-8b26-4329-95ef-bb41add27603'>\n",
              "  <div id=\"b66dd5bc-a878-44b6-b910-621091901cc5\" data-root-id=\"e805a059-8b26-4329-95ef-bb41add27603\" style=\"display: contents;\"></div>\n",
              "</div>\n",
              "<script type=\"application/javascript\">(function(root) {\n",
              "  var docs_json = {\"665fa4a2-4be7-4646-a84b-dfe3acf8a900\":{\"version\":\"3.4.3\",\"title\":\"Bokeh Application\",\"roots\":[{\"type\":\"object\",\"name\":\"panel.models.browser.BrowserInfo\",\"id\":\"e805a059-8b26-4329-95ef-bb41add27603\"},{\"type\":\"object\",\"name\":\"panel.models.comm_manager.CommManager\",\"id\":\"43ff480e-3e0e-4042-9f45-6ee96ca4343a\",\"attributes\":{\"plot_id\":\"e805a059-8b26-4329-95ef-bb41add27603\",\"comm_id\":\"74c4f231cd2c46ebba2fdd955da1d0c3\",\"client_comm_id\":\"aab9a51206bb4c348b889223418b2a7a\"}}],\"defs\":[{\"type\":\"model\",\"name\":\"ReactiveHTML1\"},{\"type\":\"model\",\"name\":\"FlexBox1\",\"properties\":[{\"name\":\"align_content\",\"kind\":\"Any\",\"default\":\"flex-start\"},{\"name\":\"align_items\",\"kind\":\"Any\",\"default\":\"flex-start\"},{\"name\":\"flex_direction\",\"kind\":\"Any\",\"default\":\"row\"},{\"name\":\"flex_wrap\",\"kind\":\"Any\",\"default\":\"wrap\"},{\"name\":\"gap\",\"kind\":\"Any\",\"default\":\"\"},{\"name\":\"justify_content\",\"kind\":\"Any\",\"default\":\"flex-start\"}]},{\"type\":\"model\",\"name\":\"FloatPanel1\",\"properties\":[{\"name\":\"config\",\"kind\":\"Any\",\"default\":{\"type\":\"map\"}},{\"name\":\"contained\",\"kind\":\"Any\",\"default\":true},{\"name\":\"position\",\"kind\":\"Any\",\"default\":\"right-top\"},{\"name\":\"offsetx\",\"kind\":\"Any\",\"default\":null},{\"name\":\"offsety\",\"kind\":\"Any\",\"default\":null},{\"name\":\"theme\",\"kind\":\"Any\",\"default\":\"primary\"},{\"name\":\"status\",\"kind\":\"Any\",\"default\":\"normalized\"}]},{\"type\":\"model\",\"name\":\"GridStack1\",\"properties\":[{\"name\":\"mode\",\"kind\":\"Any\",\"default\":\"warn\"},{\"name\":\"ncols\",\"kind\":\"Any\",\"default\":null},{\"name\":\"nrows\",\"kind\":\"Any\",\"default\":null},{\"name\":\"allow_resize\",\"kind\":\"Any\",\"default\":true},{\"name\":\"allow_drag\",\"kind\":\"Any\",\"default\":true},{\"name\":\"state\",\"kind\":\"Any\",\"default\":[]}]},{\"type\":\"model\",\"name\":\"drag1\",\"properties\":[{\"name\":\"slider_width\",\"kind\":\"Any\",\"default\":5},{\"name\":\"slider_color\",\"kind\":\"Any\",\"default\":\"black\"},{\"name\":\"value\",\"kind\":\"Any\",\"default\":50}]},{\"type\":\"model\",\"name\":\"click1\",\"properties\":[{\"name\":\"terminal_output\",\"kind\":\"Any\",\"default\":\"\"},{\"name\":\"debug_name\",\"kind\":\"Any\",\"default\":\"\"},{\"name\":\"clears\",\"kind\":\"Any\",\"default\":0}]},{\"type\":\"model\",\"name\":\"FastWrapper1\",\"properties\":[{\"name\":\"object\",\"kind\":\"Any\",\"default\":null},{\"name\":\"style\",\"kind\":\"Any\",\"default\":null}]},{\"type\":\"model\",\"name\":\"NotificationAreaBase1\",\"properties\":[{\"name\":\"js_events\",\"kind\":\"Any\",\"default\":{\"type\":\"map\"}},{\"name\":\"position\",\"kind\":\"Any\",\"default\":\"bottom-right\"},{\"name\":\"_clear\",\"kind\":\"Any\",\"default\":0}]},{\"type\":\"model\",\"name\":\"NotificationArea1\",\"properties\":[{\"name\":\"js_events\",\"kind\":\"Any\",\"default\":{\"type\":\"map\"}},{\"name\":\"notifications\",\"kind\":\"Any\",\"default\":[]},{\"name\":\"position\",\"kind\":\"Any\",\"default\":\"bottom-right\"},{\"name\":\"_clear\",\"kind\":\"Any\",\"default\":0},{\"name\":\"types\",\"kind\":\"Any\",\"default\":[{\"type\":\"map\",\"entries\":[[\"type\",\"warning\"],[\"background\",\"#ffc107\"],[\"icon\",{\"type\":\"map\",\"entries\":[[\"className\",\"fas fa-exclamation-triangle\"],[\"tagName\",\"i\"],[\"color\",\"white\"]]}]]},{\"type\":\"map\",\"entries\":[[\"type\",\"info\"],[\"background\",\"#007bff\"],[\"icon\",{\"type\":\"map\",\"entries\":[[\"className\",\"fas fa-info-circle\"],[\"tagName\",\"i\"],[\"color\",\"white\"]]}]]}]}]},{\"type\":\"model\",\"name\":\"Notification\",\"properties\":[{\"name\":\"background\",\"kind\":\"Any\",\"default\":null},{\"name\":\"duration\",\"kind\":\"Any\",\"default\":3000},{\"name\":\"icon\",\"kind\":\"Any\",\"default\":null},{\"name\":\"message\",\"kind\":\"Any\",\"default\":\"\"},{\"name\":\"notification_type\",\"kind\":\"Any\",\"default\":null},{\"name\":\"_destroyed\",\"kind\":\"Any\",\"default\":false}]},{\"type\":\"model\",\"name\":\"TemplateActions1\",\"properties\":[{\"name\":\"open_modal\",\"kind\":\"Any\",\"default\":0},{\"name\":\"close_modal\",\"kind\":\"Any\",\"default\":0}]},{\"type\":\"model\",\"name\":\"BootstrapTemplateActions1\",\"properties\":[{\"name\":\"open_modal\",\"kind\":\"Any\",\"default\":0},{\"name\":\"close_modal\",\"kind\":\"Any\",\"default\":0}]},{\"type\":\"model\",\"name\":\"TemplateEditor1\",\"properties\":[{\"name\":\"layout\",\"kind\":\"Any\",\"default\":[]}]},{\"type\":\"model\",\"name\":\"MaterialTemplateActions1\",\"properties\":[{\"name\":\"open_modal\",\"kind\":\"Any\",\"default\":0},{\"name\":\"close_modal\",\"kind\":\"Any\",\"default\":0}]},{\"type\":\"model\",\"name\":\"copy_to_clipboard1\",\"properties\":[{\"name\":\"fill\",\"kind\":\"Any\",\"default\":\"none\"},{\"name\":\"value\",\"kind\":\"Any\",\"default\":null}]}]}};\n",
              "  var render_items = [{\"docid\":\"665fa4a2-4be7-4646-a84b-dfe3acf8a900\",\"roots\":{\"e805a059-8b26-4329-95ef-bb41add27603\":\"b66dd5bc-a878-44b6-b910-621091901cc5\"},\"root_ids\":[\"e805a059-8b26-4329-95ef-bb41add27603\"]}];\n",
              "  var docs = Object.values(docs_json)\n",
              "  if (!docs) {\n",
              "    return\n",
              "  }\n",
              "  const py_version = docs[0].version.replace('rc', '-rc.').replace('.dev', '-dev.')\n",
              "  async function embed_document(root) {\n",
              "    var Bokeh = get_bokeh(root)\n",
              "    await Bokeh.embed.embed_items_notebook(docs_json, render_items);\n",
              "    for (const render_item of render_items) {\n",
              "      for (const root_id of render_item.root_ids) {\n",
              "\tconst id_el = document.getElementById(root_id)\n",
              "\tif (id_el.children.length && id_el.children[0].hasAttribute('data-root-id')) {\n",
              "\t  const root_el = id_el.children[0]\n",
              "\t  root_el.id = root_el.id + '-rendered'\n",
              "\t  for (const child of root_el.children) {\n",
              "            // Ensure JupyterLab does not capture keyboard shortcuts\n",
              "            // see: https://jupyterlab.readthedocs.io/en/4.1.x/extension/notebook.html#keyboard-interaction-model\n",
              "\t    child.setAttribute('data-lm-suppress-shortcuts', 'true')\n",
              "\t  }\n",
              "\t}\n",
              "      }\n",
              "    }\n",
              "  }\n",
              "  function get_bokeh(root) {\n",
              "    if (root.Bokeh === undefined) {\n",
              "      return null\n",
              "    } else if (root.Bokeh.version !== py_version) {\n",
              "      if (root.Bokeh.versions === undefined || !root.Bokeh.versions.has(py_version)) {\n",
              "\treturn null\n",
              "      }\n",
              "      return root.Bokeh.versions.get(py_version);\n",
              "    } else if (root.Bokeh.version === py_version) {\n",
              "      return root.Bokeh\n",
              "    }\n",
              "    return null\n",
              "  }\n",
              "  function is_loaded(root) {\n",
              "    var Bokeh = get_bokeh(root)\n",
              "    return (Bokeh != null && Bokeh.Panel !== undefined)\n",
              "  }\n",
              "  if (is_loaded(root)) {\n",
              "    embed_document(root);\n",
              "  } else {\n",
              "    var attempts = 0;\n",
              "    var timer = setInterval(function(root) {\n",
              "      if (is_loaded(root)) {\n",
              "        clearInterval(timer);\n",
              "        embed_document(root);\n",
              "      } else if (document.readyState == \"complete\") {\n",
              "        attempts++;\n",
              "        if (attempts > 200) {\n",
              "          clearInterval(timer);\n",
              "\t  var Bokeh = get_bokeh(root)\n",
              "\t  if (Bokeh == null || Bokeh.Panel == null) {\n",
              "            console.warn(\"Panel: ERROR: Unable to run Panel code because Bokeh or Panel library is missing\");\n",
              "\t  } else {\n",
              "\t    console.warn(\"Panel: WARNING: Attempting to render but not all required libraries could be resolved.\")\n",
              "\t    embed_document(root)\n",
              "\t  }\n",
              "        }\n",
              "      }\n",
              "    }, 25, root)\n",
              "  }\n",
              "})(window);</script>"
            ]
          },
          "metadata": {
            "application/vnd.holoviews_exec.v0+json": {
              "id": "e805a059-8b26-4329-95ef-bb41add27603"
            }
          },
          "output_type": "display_data"
        }
      ],
      "source": [
        "import panel as pn\n",
        "pn.extension()  # Activate the panel extension"
      ]
    },
    {
      "cell_type": "code",
      "execution_count": 134,
      "metadata": {
        "colab": {
          "base_uri": "https://localhost:8080/",
          "height": 1000
        },
        "id": "z9-D8TSO495_",
        "outputId": "17cdbe79-4419-4d84-be1d-44b37603a56e"
      },
      "outputs": [
        {
          "data": {
            "application/javascript": "(function(root) {\n  function now() {\n    return new Date();\n  }\n\n  var force = true;\n  var py_version = '3.4.3'.replace('rc', '-rc.').replace('.dev', '-dev.');\n  var reloading = false;\n  var Bokeh = root.Bokeh;\n\n  if (typeof (root._bokeh_timeout) === \"undefined\" || force) {\n    root._bokeh_timeout = Date.now() + 5000;\n    root._bokeh_failed_load = false;\n  }\n\n  function run_callbacks() {\n    try {\n      root._bokeh_onload_callbacks.forEach(function(callback) {\n        if (callback != null)\n          callback();\n      });\n    } finally {\n      delete root._bokeh_onload_callbacks;\n    }\n    console.debug(\"Bokeh: all callbacks have finished\");\n  }\n\n  function load_libs(css_urls, js_urls, js_modules, js_exports, callback) {\n    if (css_urls == null) css_urls = [];\n    if (js_urls == null) js_urls = [];\n    if (js_modules == null) js_modules = [];\n    if (js_exports == null) js_exports = {};\n\n    root._bokeh_onload_callbacks.push(callback);\n\n    if (root._bokeh_is_loading > 0) {\n      console.debug(\"Bokeh: BokehJS is being loaded, scheduling callback at\", now());\n      return null;\n    }\n    if (js_urls.length === 0 && js_modules.length === 0 && Object.keys(js_exports).length === 0) {\n      run_callbacks();\n      return null;\n    }\n    if (!reloading) {\n      console.debug(\"Bokeh: BokehJS not loaded, scheduling load and callback at\", now());\n    }\n\n    function on_load() {\n      root._bokeh_is_loading--;\n      if (root._bokeh_is_loading === 0) {\n        console.debug(\"Bokeh: all BokehJS libraries/stylesheets loaded\");\n        run_callbacks()\n      }\n    }\n    window._bokeh_on_load = on_load\n\n    function on_error() {\n      console.error(\"failed to load \" + url);\n    }\n\n    var skip = [];\n    if (window.requirejs) {\n      window.requirejs.config({'packages': {}, 'paths': {}, 'shim': {}});\n      root._bokeh_is_loading = css_urls.length + 0;\n    } else {\n      root._bokeh_is_loading = css_urls.length + js_urls.length + js_modules.length + Object.keys(js_exports).length;\n    }\n\n    var existing_stylesheets = []\n    var links = document.getElementsByTagName('link')\n    for (var i = 0; i < links.length; i++) {\n      var link = links[i]\n      if (link.href != null) {\n\texisting_stylesheets.push(link.href)\n      }\n    }\n    for (var i = 0; i < css_urls.length; i++) {\n      var url = css_urls[i];\n      if (existing_stylesheets.indexOf(url) !== -1) {\n\ton_load()\n\tcontinue;\n      }\n      const element = document.createElement(\"link\");\n      element.onload = on_load;\n      element.onerror = on_error;\n      element.rel = \"stylesheet\";\n      element.type = \"text/css\";\n      element.href = url;\n      console.debug(\"Bokeh: injecting link tag for BokehJS stylesheet: \", url);\n      document.body.appendChild(element);\n    }    var existing_scripts = []\n    var scripts = document.getElementsByTagName('script')\n    for (var i = 0; i < scripts.length; i++) {\n      var script = scripts[i]\n      if (script.src != null) {\n\texisting_scripts.push(script.src)\n      }\n    }\n    for (var i = 0; i < js_urls.length; i++) {\n      var url = js_urls[i];\n      if (skip.indexOf(url) !== -1 || existing_scripts.indexOf(url) !== -1) {\n\tif (!window.requirejs) {\n\t  on_load();\n\t}\n\tcontinue;\n      }\n      var element = document.createElement('script');\n      element.onload = on_load;\n      element.onerror = on_error;\n      element.async = false;\n      element.src = url;\n      console.debug(\"Bokeh: injecting script tag for BokehJS library: \", url);\n      document.head.appendChild(element);\n    }\n    for (var i = 0; i < js_modules.length; i++) {\n      var url = js_modules[i];\n      if (skip.indexOf(url) !== -1 || existing_scripts.indexOf(url) !== -1) {\n\tif (!window.requirejs) {\n\t  on_load();\n\t}\n\tcontinue;\n      }\n      var element = document.createElement('script');\n      element.onload = on_load;\n      element.onerror = on_error;\n      element.async = false;\n      element.src = url;\n      element.type = \"module\";\n      console.debug(\"Bokeh: injecting script tag for BokehJS library: \", url);\n      document.head.appendChild(element);\n    }\n    for (const name in js_exports) {\n      var url = js_exports[name];\n      if (skip.indexOf(url) >= 0 || root[name] != null) {\n\tif (!window.requirejs) {\n\t  on_load();\n\t}\n\tcontinue;\n      }\n      var element = document.createElement('script');\n      element.onerror = on_error;\n      element.async = false;\n      element.type = \"module\";\n      console.debug(\"Bokeh: injecting script tag for BokehJS library: \", url);\n      element.textContent = `\n      import ${name} from \"${url}\"\n      window.${name} = ${name}\n      window._bokeh_on_load()\n      `\n      document.head.appendChild(element);\n    }\n    if (!js_urls.length && !js_modules.length) {\n      on_load()\n    }\n  };\n\n  function inject_raw_css(css) {\n    const element = document.createElement(\"style\");\n    element.appendChild(document.createTextNode(css));\n    document.body.appendChild(element);\n  }\n\n  var js_urls = [\"https://cdn.bokeh.org/bokeh/release/bokeh-3.4.3.min.js\", \"https://cdn.bokeh.org/bokeh/release/bokeh-gl-3.4.3.min.js\", \"https://cdn.bokeh.org/bokeh/release/bokeh-widgets-3.4.3.min.js\", \"https://cdn.bokeh.org/bokeh/release/bokeh-tables-3.4.3.min.js\", \"https://cdn.holoviz.org/panel/1.4.4/dist/panel.min.js\"];\n  var js_modules = [];\n  var js_exports = {};\n  var css_urls = [];\n  var inline_js = [    function(Bokeh) {\n      Bokeh.set_log_level(\"info\");\n    },\nfunction(Bokeh) {} // ensure no trailing comma for IE\n  ];\n\n  function run_inline_js() {\n    if ((root.Bokeh !== undefined) || (force === true)) {\n      for (var i = 0; i < inline_js.length; i++) {\n\ttry {\n          inline_js[i].call(root, root.Bokeh);\n\t} catch(e) {\n\t  if (!reloading) {\n\t    throw e;\n\t  }\n\t}\n      }\n      // Cache old bokeh versions\n      if (Bokeh != undefined && !reloading) {\n\tvar NewBokeh = root.Bokeh;\n\tif (Bokeh.versions === undefined) {\n\t  Bokeh.versions = new Map();\n\t}\n\tif (NewBokeh.version !== Bokeh.version) {\n\t  Bokeh.versions.set(NewBokeh.version, NewBokeh)\n\t}\n\troot.Bokeh = Bokeh;\n      }} else if (Date.now() < root._bokeh_timeout) {\n      setTimeout(run_inline_js, 100);\n    } else if (!root._bokeh_failed_load) {\n      console.log(\"Bokeh: BokehJS failed to load within specified timeout.\");\n      root._bokeh_failed_load = true;\n    }\n    root._bokeh_is_initializing = false\n  }\n\n  function load_or_wait() {\n    // Implement a backoff loop that tries to ensure we do not load multiple\n    // versions of Bokeh and its dependencies at the same time.\n    // In recent versions we use the root._bokeh_is_initializing flag\n    // to determine whether there is an ongoing attempt to initialize\n    // bokeh, however for backward compatibility we also try to ensure\n    // that we do not start loading a newer (Panel>=1.0 and Bokeh>3) version\n    // before older versions are fully initialized.\n    if (root._bokeh_is_initializing && Date.now() > root._bokeh_timeout) {\n      root._bokeh_is_initializing = false;\n      root._bokeh_onload_callbacks = undefined;\n      console.log(\"Bokeh: BokehJS was loaded multiple times but one version failed to initialize.\");\n      load_or_wait();\n    } else if (root._bokeh_is_initializing || (typeof root._bokeh_is_initializing === \"undefined\" && root._bokeh_onload_callbacks !== undefined)) {\n      setTimeout(load_or_wait, 100);\n    } else {\n      root._bokeh_is_initializing = true\n      root._bokeh_onload_callbacks = []\n      var bokeh_loaded = Bokeh != null && (Bokeh.version === py_version || (Bokeh.versions !== undefined && Bokeh.versions.has(py_version)));\n      if (!reloading && !bokeh_loaded) {\n\troot.Bokeh = undefined;\n      }\n      load_libs(css_urls, js_urls, js_modules, js_exports, function() {\n\tconsole.debug(\"Bokeh: BokehJS plotting callback run at\", now());\n\trun_inline_js();\n      });\n    }\n  }\n  // Give older versions of the autoload script a head-start to ensure\n  // they initialize before we start loading newer version.\n  setTimeout(load_or_wait, 100)\n}(window));",
            "application/vnd.holoviews_load.v0+json": ""
          },
          "metadata": {},
          "output_type": "display_data"
        },
        {
          "data": {
            "application/javascript": "\nif ((window.PyViz === undefined) || (window.PyViz instanceof HTMLElement)) {\n  window.PyViz = {comms: {}, comm_status:{}, kernels:{}, receivers: {}, plot_index: []}\n}\n\n\n    function JupyterCommManager() {\n    }\n\n    JupyterCommManager.prototype.register_target = function(plot_id, comm_id, msg_handler) {\n      if (window.comm_manager || ((window.Jupyter !== undefined) && (Jupyter.notebook.kernel != null))) {\n        var comm_manager = window.comm_manager || Jupyter.notebook.kernel.comm_manager;\n        comm_manager.register_target(comm_id, function(comm) {\n          comm.on_msg(msg_handler);\n        });\n      } else if ((plot_id in window.PyViz.kernels) && (window.PyViz.kernels[plot_id])) {\n        window.PyViz.kernels[plot_id].registerCommTarget(comm_id, function(comm) {\n          comm.onMsg = msg_handler;\n        });\n      } else if (typeof google != 'undefined' && google.colab.kernel != null) {\n        google.colab.kernel.comms.registerTarget(comm_id, (comm) => {\n          var messages = comm.messages[Symbol.asyncIterator]();\n          function processIteratorResult(result) {\n            var message = result.value;\n            console.log(message)\n            var content = {data: message.data, comm_id};\n            var buffers = []\n            for (var buffer of message.buffers || []) {\n              buffers.push(new DataView(buffer))\n            }\n            var metadata = message.metadata || {};\n            var msg = {content, buffers, metadata}\n            msg_handler(msg);\n            return messages.next().then(processIteratorResult);\n          }\n          return messages.next().then(processIteratorResult);\n        })\n      }\n    }\n\n    JupyterCommManager.prototype.get_client_comm = function(plot_id, comm_id, msg_handler) {\n      if (comm_id in window.PyViz.comms) {\n        return window.PyViz.comms[comm_id];\n      } else if (window.comm_manager || ((window.Jupyter !== undefined) && (Jupyter.notebook.kernel != null))) {\n        var comm_manager = window.comm_manager || Jupyter.notebook.kernel.comm_manager;\n        var comm = comm_manager.new_comm(comm_id, {}, {}, {}, comm_id);\n        if (msg_handler) {\n          comm.on_msg(msg_handler);\n        }\n      } else if ((plot_id in window.PyViz.kernels) && (window.PyViz.kernels[plot_id])) {\n        var comm = window.PyViz.kernels[plot_id].connectToComm(comm_id);\n        comm.open();\n        if (msg_handler) {\n          comm.onMsg = msg_handler;\n        }\n      } else if (typeof google != 'undefined' && google.colab.kernel != null) {\n        var comm_promise = google.colab.kernel.comms.open(comm_id)\n        comm_promise.then((comm) => {\n          window.PyViz.comms[comm_id] = comm;\n          if (msg_handler) {\n            var messages = comm.messages[Symbol.asyncIterator]();\n            function processIteratorResult(result) {\n              var message = result.value;\n              var content = {data: message.data};\n              var metadata = message.metadata || {comm_id};\n              var msg = {content, metadata}\n              msg_handler(msg);\n              return messages.next().then(processIteratorResult);\n            }\n            return messages.next().then(processIteratorResult);\n          }\n        }) \n        var sendClosure = (data, metadata, buffers, disposeOnDone) => {\n          return comm_promise.then((comm) => {\n            comm.send(data, metadata, buffers, disposeOnDone);\n          });\n        };\n        var comm = {\n          send: sendClosure\n        };\n      }\n      window.PyViz.comms[comm_id] = comm;\n      return comm;\n    }\n    window.PyViz.comm_manager = new JupyterCommManager();\n    \n\n\nvar JS_MIME_TYPE = 'application/javascript';\nvar HTML_MIME_TYPE = 'text/html';\nvar EXEC_MIME_TYPE = 'application/vnd.holoviews_exec.v0+json';\nvar CLASS_NAME = 'output';\n\n/**\n * Render data to the DOM node\n */\nfunction render(props, node) {\n  var div = document.createElement(\"div\");\n  var script = document.createElement(\"script\");\n  node.appendChild(div);\n  node.appendChild(script);\n}\n\n/**\n * Handle when a new output is added\n */\nfunction handle_add_output(event, handle) {\n  var output_area = handle.output_area;\n  var output = handle.output;\n  if ((output.data == undefined) || (!output.data.hasOwnProperty(EXEC_MIME_TYPE))) {\n    return\n  }\n  var id = output.metadata[EXEC_MIME_TYPE][\"id\"];\n  var toinsert = output_area.element.find(\".\" + CLASS_NAME.split(' ')[0]);\n  if (id !== undefined) {\n    var nchildren = toinsert.length;\n    var html_node = toinsert[nchildren-1].children[0];\n    html_node.innerHTML = output.data[HTML_MIME_TYPE];\n    var scripts = [];\n    var nodelist = html_node.querySelectorAll(\"script\");\n    for (var i in nodelist) {\n      if (nodelist.hasOwnProperty(i)) {\n        scripts.push(nodelist[i])\n      }\n    }\n\n    scripts.forEach( function (oldScript) {\n      var newScript = document.createElement(\"script\");\n      var attrs = [];\n      var nodemap = oldScript.attributes;\n      for (var j in nodemap) {\n        if (nodemap.hasOwnProperty(j)) {\n          attrs.push(nodemap[j])\n        }\n      }\n      attrs.forEach(function(attr) { newScript.setAttribute(attr.name, attr.value) });\n      newScript.appendChild(document.createTextNode(oldScript.innerHTML));\n      oldScript.parentNode.replaceChild(newScript, oldScript);\n    });\n    if (JS_MIME_TYPE in output.data) {\n      toinsert[nchildren-1].children[1].textContent = output.data[JS_MIME_TYPE];\n    }\n    output_area._hv_plot_id = id;\n    if ((window.Bokeh !== undefined) && (id in Bokeh.index)) {\n      window.PyViz.plot_index[id] = Bokeh.index[id];\n    } else {\n      window.PyViz.plot_index[id] = null;\n    }\n  } else if (output.metadata[EXEC_MIME_TYPE][\"server_id\"] !== undefined) {\n    var bk_div = document.createElement(\"div\");\n    bk_div.innerHTML = output.data[HTML_MIME_TYPE];\n    var script_attrs = bk_div.children[0].attributes;\n    for (var i = 0; i < script_attrs.length; i++) {\n      toinsert[toinsert.length - 1].childNodes[1].setAttribute(script_attrs[i].name, script_attrs[i].value);\n    }\n    // store reference to server id on output_area\n    output_area._bokeh_server_id = output.metadata[EXEC_MIME_TYPE][\"server_id\"];\n  }\n}\n\n/**\n * Handle when an output is cleared or removed\n */\nfunction handle_clear_output(event, handle) {\n  var id = handle.cell.output_area._hv_plot_id;\n  var server_id = handle.cell.output_area._bokeh_server_id;\n  if (((id === undefined) || !(id in PyViz.plot_index)) && (server_id !== undefined)) { return; }\n  var comm = window.PyViz.comm_manager.get_client_comm(\"hv-extension-comm\", \"hv-extension-comm\", function () {});\n  if (server_id !== null) {\n    comm.send({event_type: 'server_delete', 'id': server_id});\n    return;\n  } else if (comm !== null) {\n    comm.send({event_type: 'delete', 'id': id});\n  }\n  delete PyViz.plot_index[id];\n  if ((window.Bokeh !== undefined) & (id in window.Bokeh.index)) {\n    var doc = window.Bokeh.index[id].model.document\n    doc.clear();\n    const i = window.Bokeh.documents.indexOf(doc);\n    if (i > -1) {\n      window.Bokeh.documents.splice(i, 1);\n    }\n  }\n}\n\n/**\n * Handle kernel restart event\n */\nfunction handle_kernel_cleanup(event, handle) {\n  delete PyViz.comms[\"hv-extension-comm\"];\n  window.PyViz.plot_index = {}\n}\n\n/**\n * Handle update_display_data messages\n */\nfunction handle_update_output(event, handle) {\n  handle_clear_output(event, {cell: {output_area: handle.output_area}})\n  handle_add_output(event, handle)\n}\n\nfunction register_renderer(events, OutputArea) {\n  function append_mime(data, metadata, element) {\n    // create a DOM node to render to\n    var toinsert = this.create_output_subarea(\n    metadata,\n    CLASS_NAME,\n    EXEC_MIME_TYPE\n    );\n    this.keyboard_manager.register_events(toinsert);\n    // Render to node\n    var props = {data: data, metadata: metadata[EXEC_MIME_TYPE]};\n    render(props, toinsert[0]);\n    element.append(toinsert);\n    return toinsert\n  }\n\n  events.on('output_added.OutputArea', handle_add_output);\n  events.on('output_updated.OutputArea', handle_update_output);\n  events.on('clear_output.CodeCell', handle_clear_output);\n  events.on('delete.Cell', handle_clear_output);\n  events.on('kernel_ready.Kernel', handle_kernel_cleanup);\n\n  OutputArea.prototype.register_mime_type(EXEC_MIME_TYPE, append_mime, {\n    safe: true,\n    index: 0\n  });\n}\n\nif (window.Jupyter !== undefined) {\n  try {\n    var events = require('base/js/events');\n    var OutputArea = require('notebook/js/outputarea').OutputArea;\n    if (OutputArea.prototype.mime_types().indexOf(EXEC_MIME_TYPE) == -1) {\n      register_renderer(events, OutputArea);\n    }\n  } catch(err) {\n  }\n}\n",
            "application/vnd.holoviews_load.v0+json": ""
          },
          "metadata": {},
          "output_type": "display_data"
        },
        {
          "data": {
            "text/html": [
              "<style>*[data-root-id],\n",
              "*[data-root-id] > * {\n",
              "  box-sizing: border-box;\n",
              "  font-family: var(--jp-ui-font-family);\n",
              "  font-size: var(--jp-ui-font-size1);\n",
              "  color: var(--vscode-editor-foreground, var(--jp-ui-font-color1));\n",
              "}\n",
              "\n",
              "/* Override VSCode background color */\n",
              ".cell-output-ipywidget-background:has(\n",
              "    > .cell-output-ipywidget-background > .lm-Widget > *[data-root-id]\n",
              "  ),\n",
              ".cell-output-ipywidget-background:has(> .lm-Widget > *[data-root-id]) {\n",
              "  background-color: transparent !important;\n",
              "}\n",
              "</style>"
            ]
          },
          "metadata": {},
          "output_type": "display_data"
        },
        {
          "data": {},
          "metadata": {},
          "output_type": "display_data"
        },
        {
          "data": {
            "application/vnd.holoviews_exec.v0+json": "",
            "text/html": [
              "<div id='660c52af-5b10-430b-aa6c-6b85c2e4d832'>\n",
              "  <div id=\"e2b0dab0-4873-4106-869c-e33b351b15da\" data-root-id=\"660c52af-5b10-430b-aa6c-6b85c2e4d832\" style=\"display: contents;\"></div>\n",
              "</div>\n",
              "<script type=\"application/javascript\">(function(root) {\n",
              "  var docs_json = {\"dcb4b219-f3b9-44de-8308-4ae552dfbb60\":{\"version\":\"3.4.3\",\"title\":\"Bokeh Application\",\"roots\":[{\"type\":\"object\",\"name\":\"panel.models.layout.Column\",\"id\":\"660c52af-5b10-430b-aa6c-6b85c2e4d832\",\"attributes\":{\"name\":\"Column04155\",\"stylesheets\":[\"\\n:host(.pn-loading):before, .pn-loading:before {\\n  background-color: #c3c3c3;\\n  mask-size: auto calc(min(50%, 400px));\\n  -webkit-mask-size: auto calc(min(50%, 400px));\\n}\",{\"type\":\"object\",\"name\":\"ImportedStyleSheet\",\"id\":\"837f85c0-e8c2-4367-bc2c-ab9088251c20\",\"attributes\":{\"url\":\"https://cdn.holoviz.org/panel/1.4.4/dist/css/loading.css\"}},{\"type\":\"object\",\"name\":\"ImportedStyleSheet\",\"id\":\"5a56f97d-87b5-4405-a330-3d86a988ed78\",\"attributes\":{\"url\":\"https://cdn.holoviz.org/panel/1.4.4/dist/css/listpanel.css\"}},{\"type\":\"object\",\"name\":\"ImportedStyleSheet\",\"id\":\"c08c38c9-7f8b-455f-a223-cc4c05654a2b\",\"attributes\":{\"url\":\"https://cdn.holoviz.org/panel/1.4.4/dist/bundled/theme/default.css\"}},{\"type\":\"object\",\"name\":\"ImportedStyleSheet\",\"id\":\"0cc49d8a-887b-4939-b3dd-3b81f8c15d66\",\"attributes\":{\"url\":\"https://cdn.holoviz.org/panel/1.4.4/dist/bundled/theme/native.css\"}}],\"margin\":0,\"align\":\"start\",\"children\":[{\"type\":\"object\",\"name\":\"Row\",\"id\":\"e302a157-0a47-409b-824f-e7967817e39a\",\"attributes\":{\"name\":\"Row04153\",\"stylesheets\":[\"\\n:host(.pn-loading):before, .pn-loading:before {\\n  background-color: #c3c3c3;\\n  mask-size: auto calc(min(50%, 400px));\\n  -webkit-mask-size: auto calc(min(50%, 400px));\\n}\",{\"id\":\"837f85c0-e8c2-4367-bc2c-ab9088251c20\"},{\"id\":\"5a56f97d-87b5-4405-a330-3d86a988ed78\"},{\"id\":\"c08c38c9-7f8b-455f-a223-cc4c05654a2b\"},{\"id\":\"0cc49d8a-887b-4939-b3dd-3b81f8c15d66\"}],\"margin\":0,\"align\":\"start\",\"children\":[{\"type\":\"object\",\"name\":\"panel.models.markup.HTML\",\"id\":\"36ad782d-c28c-437c-abc5-3016d9dac979\",\"attributes\":{\"css_classes\":[\"markdown\"],\"stylesheets\":[\"\\n:host(.pn-loading):before, .pn-loading:before {\\n  background-color: #c3c3c3;\\n  mask-size: auto calc(min(50%, 400px));\\n  -webkit-mask-size: auto calc(min(50%, 400px));\\n}\",{\"id\":\"837f85c0-e8c2-4367-bc2c-ab9088251c20\"},{\"type\":\"object\",\"name\":\"ImportedStyleSheet\",\"id\":\"2b63cf78-1596-4349-b741-60a051506557\",\"attributes\":{\"url\":\"https://cdn.holoviz.org/panel/1.4.4/dist/css/markdown.css\"}},{\"id\":\"c08c38c9-7f8b-455f-a223-cc4c05654a2b\"},{\"id\":\"0cc49d8a-887b-4939-b3dd-3b81f8c15d66\"}],\"margin\":[5,10],\"align\":\"start\",\"text\":\"&lt;h1 id=&quot;chat-with-your-pdf_bot&quot;&gt;Chat With Your PDF_Bot &lt;a class=&quot;header-anchor&quot; href=&quot;#chat-with-your-pdf_bot&quot;&gt;\\u00b6&lt;/a&gt;&lt;/h1&gt;\\n\"}}]}},{\"type\":\"object\",\"name\":\"panel.models.tabs.Tabs\",\"id\":\"763acd03-5f98-42b4-ab4c-f53fd7fe091b\",\"attributes\":{\"stylesheets\":[\"\\n:host(.pn-loading):before, .pn-loading:before {\\n  background-color: #c3c3c3;\\n  mask-size: auto calc(min(50%, 400px));\\n  -webkit-mask-size: auto calc(min(50%, 400px));\\n}\",{\"id\":\"837f85c0-e8c2-4367-bc2c-ab9088251c20\"},{\"id\":\"c08c38c9-7f8b-455f-a223-cc4c05654a2b\"},{\"id\":\"0cc49d8a-887b-4939-b3dd-3b81f8c15d66\"}],\"margin\":0,\"align\":\"start\",\"tabs\":[{\"type\":\"object\",\"name\":\"TabPanel\",\"id\":\"84dd14d9-1ca0-4314-b544-bffabe984bb5\",\"attributes\":{\"name\":\"Column04104\",\"title\":\"Conversation\",\"child\":{\"type\":\"object\",\"name\":\"panel.models.layout.Column\",\"id\":\"89249f2a-c588-4bf5-8566-631353d7b299\",\"attributes\":{\"name\":\"Column04104\",\"stylesheets\":[\"\\n:host(.pn-loading):before, .pn-loading:before {\\n  background-color: #c3c3c3;\\n  mask-size: auto calc(min(50%, 400px));\\n  -webkit-mask-size: auto calc(min(50%, 400px));\\n}\",{\"id\":\"837f85c0-e8c2-4367-bc2c-ab9088251c20\"},{\"id\":\"5a56f97d-87b5-4405-a330-3d86a988ed78\"},{\"id\":\"c08c38c9-7f8b-455f-a223-cc4c05654a2b\"},{\"id\":\"0cc49d8a-887b-4939-b3dd-3b81f8c15d66\"}],\"margin\":0,\"align\":\"start\",\"children\":[{\"type\":\"object\",\"name\":\"Row\",\"id\":\"ab4e360f-2aa7-462b-ae19-f1d7d4b6f5b9\",\"attributes\":{\"name\":\"Row04089\",\"stylesheets\":[\"\\n:host(.pn-loading):before, .pn-loading:before {\\n  background-color: #c3c3c3;\\n  mask-size: auto calc(min(50%, 400px));\\n  -webkit-mask-size: auto calc(min(50%, 400px));\\n}\",{\"id\":\"837f85c0-e8c2-4367-bc2c-ab9088251c20\"},{\"id\":\"5a56f97d-87b5-4405-a330-3d86a988ed78\"},{\"id\":\"c08c38c9-7f8b-455f-a223-cc4c05654a2b\"},{\"id\":\"0cc49d8a-887b-4939-b3dd-3b81f8c15d66\"}],\"margin\":0,\"align\":\"start\",\"children\":[{\"type\":\"object\",\"name\":\"TextInput\",\"id\":\"083b352a-082f-4f78-b399-5858913f7feb\",\"attributes\":{\"js_property_callbacks\":{\"type\":\"map\",\"entries\":[[\"change:value\",[{\"type\":\"object\",\"name\":\"CustomJS\",\"id\":\"2f68d308-3a51-476c-b589-4d7fbd8907bd\",\"attributes\":{\"tags\":[[137636677571952,[null,\"value\"],[null,\"loading\"]]],\"args\":{\"type\":\"map\",\"entries\":[[\"bidirectional\",false],[\"properties\",{\"type\":\"map\",\"entries\":[[\"value\",\"loading\"]]}],[\"source\",{\"id\":\"083b352a-082f-4f78-b399-5858913f7feb\"}],[\"target\",{\"type\":\"object\",\"name\":\"panel.models.layout.Column\",\"id\":\"1a1ef137-8740-4ab4-be54-4077fda4ba40\",\"attributes\":{\"name\":\"Column04095\",\"stylesheets\":[\"\\n:host(.pn-loading):before, .pn-loading:before {\\n  background-color: #c3c3c3;\\n  mask-size: auto calc(min(50%, 400px));\\n  -webkit-mask-size: auto calc(min(50%, 400px));\\n}\",{\"id\":\"837f85c0-e8c2-4367-bc2c-ab9088251c20\"},{\"id\":\"5a56f97d-87b5-4405-a330-3d86a988ed78\"},{\"id\":\"c08c38c9-7f8b-455f-a223-cc4c05654a2b\"},{\"id\":\"0cc49d8a-887b-4939-b3dd-3b81f8c15d66\"}],\"height\":300,\"min_height\":300,\"margin\":0,\"align\":\"start\",\"children\":[{\"type\":\"object\",\"name\":\"panel.models.layout.Column\",\"id\":\"1e72a95d-6954-4e69-8a3d-08ceeb4dbce2\",\"attributes\":{\"name\":\"WidgetBox04102\",\"css_classes\":[\"panel-widget-box\",\"scrollable-vertical\"],\"stylesheets\":[\"\\n:host(.pn-loading):before, .pn-loading:before {\\n  background-color: #c3c3c3;\\n  mask-size: auto calc(min(50%, 400px));\\n  -webkit-mask-size: auto calc(min(50%, 400px));\\n}\",{\"id\":\"837f85c0-e8c2-4367-bc2c-ab9088251c20\"},{\"type\":\"object\",\"name\":\"ImportedStyleSheet\",\"id\":\"697e79bc-f0d5-4d4c-b39c-958a3fb3f23e\",\"attributes\":{\"url\":\"https://cdn.holoviz.org/panel/1.4.4/dist/css/widgetbox.css\"}},{\"id\":\"5a56f97d-87b5-4405-a330-3d86a988ed78\"},{\"id\":\"c08c38c9-7f8b-455f-a223-cc4c05654a2b\"},{\"id\":\"0cc49d8a-887b-4939-b3dd-3b81f8c15d66\"}],\"margin\":0,\"align\":\"start\",\"children\":[{\"type\":\"object\",\"name\":\"Row\",\"id\":\"e3e721aa-3ced-4fd3-bf4b-268408664e3d\",\"attributes\":{\"name\":\"Row04101\",\"stylesheets\":[\"\\n:host(.pn-loading):before, .pn-loading:before {\\n  background-color: #c3c3c3;\\n  mask-size: auto calc(min(50%, 400px));\\n  -webkit-mask-size: auto calc(min(50%, 400px));\\n}\",{\"id\":\"837f85c0-e8c2-4367-bc2c-ab9088251c20\"},{\"id\":\"5a56f97d-87b5-4405-a330-3d86a988ed78\"},{\"id\":\"c08c38c9-7f8b-455f-a223-cc4c05654a2b\"},{\"id\":\"0cc49d8a-887b-4939-b3dd-3b81f8c15d66\"}],\"margin\":0,\"align\":\"start\",\"children\":[{\"type\":\"object\",\"name\":\"panel.models.markup.HTML\",\"id\":\"b1571d1d-97e1-4f4c-b3a3-75bd3921c7d2\",\"attributes\":{\"css_classes\":[\"markdown\"],\"stylesheets\":[\"\\n:host(.pn-loading):before, .pn-loading:before {\\n  background-color: #c3c3c3;\\n  mask-size: auto calc(min(50%, 400px));\\n  -webkit-mask-size: auto calc(min(50%, 400px));\\n}\",{\"id\":\"837f85c0-e8c2-4367-bc2c-ab9088251c20\"},{\"id\":\"2b63cf78-1596-4349-b741-60a051506557\"},{\"id\":\"c08c38c9-7f8b-455f-a223-cc4c05654a2b\"},{\"id\":\"0cc49d8a-887b-4939-b3dd-3b81f8c15d66\"}],\"margin\":[5,10],\"align\":\"start\",\"text\":\"&lt;p&gt;User:&lt;/p&gt;\\n\"}},{\"type\":\"object\",\"name\":\"panel.models.markup.HTML\",\"id\":\"90319cda-af77-42c1-ba58-e47db557fdb3\",\"attributes\":{\"css_classes\":[\"markdown\"],\"stylesheets\":[\"\\n:host(.pn-loading):before, .pn-loading:before {\\n  background-color: #c3c3c3;\\n  mask-size: auto calc(min(50%, 400px));\\n  -webkit-mask-size: auto calc(min(50%, 400px));\\n}\",{\"id\":\"837f85c0-e8c2-4367-bc2c-ab9088251c20\"},{\"id\":\"2b63cf78-1596-4349-b741-60a051506557\"},{\"id\":\"c08c38c9-7f8b-455f-a223-cc4c05654a2b\"},{\"id\":\"0cc49d8a-887b-4939-b3dd-3b81f8c15d66\"}],\"width\":600,\"min_width\":600,\"margin\":[5,10],\"align\":\"start\"}}]}}]}}]}}]]},\"code\":\"\\n    if ('value'.startsWith('event:')) {\\n      var value = true\\n    } else {\\n      var value = source['value'];\\n      value = value;\\n    }\\n    if (typeof value !== 'boolean' || source.labels !== ['Loading']) {\\n      value = true\\n    }\\n    var css_classes = target.css_classes.slice()\\n    var loading_css = ['pn-loading', 'pn-arc']\\n    if (value) {\\n      for (var css of loading_css) {\\n        if (!(css in css_classes)) {\\n          css_classes.push(css)\\n        }\\n      }\\n    } else {\\n     for (var css of loading_css) {\\n        var index = css_classes.indexOf(css)\\n        if (index > -1) {\\n          css_classes.splice(index, 1)\\n        }\\n      }\\n    }\\n    target['css_classes'] = css_classes\\n    \"}}]]]},\"stylesheets\":[\"\\n:host(.pn-loading):before, .pn-loading:before {\\n  background-color: #c3c3c3;\\n  mask-size: auto calc(min(50%, 400px));\\n  -webkit-mask-size: auto calc(min(50%, 400px));\\n}\",{\"id\":\"837f85c0-e8c2-4367-bc2c-ab9088251c20\"},{\"id\":\"c08c38c9-7f8b-455f-a223-cc4c05654a2b\"},{\"id\":\"0cc49d8a-887b-4939-b3dd-3b81f8c15d66\"}],\"width\":300,\"min_width\":300,\"margin\":[5,10],\"align\":\"start\",\"placeholder\":\"Enter text here\\u2026\",\"max_length\":5000}}]}},{\"type\":\"object\",\"name\":\"Div\",\"id\":\"47c5ddae-6f9c-4e0b-a0b3-09254ff4f09e\",\"attributes\":{\"name\":\"Divider04090\",\"stylesheets\":[\"\\n:host(.pn-loading):before, .pn-loading:before {\\n  background-color: #c3c3c3;\\n  mask-size: auto calc(min(50%, 400px));\\n  -webkit-mask-size: auto calc(min(50%, 400px));\\n}\",{\"type\":\"object\",\"name\":\"ImportedStyleSheet\",\"id\":\"0dcf62dc-22db-4d79-b46f-258583cb3287\",\"attributes\":{\"url\":\"https://cdn.holoviz.org/panel/1.4.4/dist/css/loading.css\"}},{\"type\":\"object\",\"name\":\"ImportedStyleSheet\",\"id\":\"44f8cf58-6134-4be9-bfea-e8493b64d026\",\"attributes\":{\"url\":\"https://cdn.holoviz.org/panel/1.4.4/dist/css/divider.css\"}}],\"margin\":0,\"width_policy\":\"fit\",\"align\":\"start\",\"text\":\"<hr>\"}},{\"id\":\"1a1ef137-8740-4ab4-be54-4077fda4ba40\"},{\"type\":\"object\",\"name\":\"Div\",\"id\":\"ab960d19-954e-4e48-be5e-a00def16bbfd\",\"attributes\":{\"name\":\"Divider04103\",\"stylesheets\":[\"\\n:host(.pn-loading):before, .pn-loading:before {\\n  background-color: #c3c3c3;\\n  mask-size: auto calc(min(50%, 400px));\\n  -webkit-mask-size: auto calc(min(50%, 400px));\\n}\",{\"type\":\"object\",\"name\":\"ImportedStyleSheet\",\"id\":\"115672ff-0373-4371-9a81-5ba0c1d9fff2\",\"attributes\":{\"url\":\"https://cdn.holoviz.org/panel/1.4.4/dist/css/loading.css\"}},{\"type\":\"object\",\"name\":\"ImportedStyleSheet\",\"id\":\"68fe29bd-dd4a-49e0-871a-69f218dea064\",\"attributes\":{\"url\":\"https://cdn.holoviz.org/panel/1.4.4/dist/css/divider.css\"}}],\"margin\":0,\"width_policy\":\"fit\",\"align\":\"start\",\"text\":\"<hr>\"}}]}}}},{\"type\":\"object\",\"name\":\"TabPanel\",\"id\":\"29aaf08c-8495-4172-ac85-11e841df945c\",\"attributes\":{\"name\":\"Column04123\",\"title\":\"Database\",\"child\":{\"type\":\"object\",\"name\":\"panel.models.layout.Column\",\"id\":\"eccf664a-b51d-4d9e-bd26-2461930befbb\",\"attributes\":{\"name\":\"Column04123\",\"stylesheets\":[\"\\n:host(.pn-loading):before, .pn-loading:before {\\n  background-color: #c3c3c3;\\n  mask-size: auto calc(min(50%, 400px));\\n  -webkit-mask-size: auto calc(min(50%, 400px));\\n}\",{\"id\":\"837f85c0-e8c2-4367-bc2c-ab9088251c20\"},{\"id\":\"5a56f97d-87b5-4405-a330-3d86a988ed78\"},{\"id\":\"c08c38c9-7f8b-455f-a223-cc4c05654a2b\"},{\"id\":\"0cc49d8a-887b-4939-b3dd-3b81f8c15d66\"}],\"margin\":0,\"align\":\"start\",\"children\":[{\"type\":\"object\",\"name\":\"panel.models.layout.Column\",\"id\":\"bfbe4282-300a-473d-b165-e2ff9a644a74\",\"attributes\":{\"name\":\"Column04109\",\"stylesheets\":[\"\\n:host(.pn-loading):before, .pn-loading:before {\\n  background-color: #c3c3c3;\\n  mask-size: auto calc(min(50%, 400px));\\n  -webkit-mask-size: auto calc(min(50%, 400px));\\n}\",{\"id\":\"837f85c0-e8c2-4367-bc2c-ab9088251c20\"},{\"id\":\"5a56f97d-87b5-4405-a330-3d86a988ed78\"},{\"id\":\"c08c38c9-7f8b-455f-a223-cc4c05654a2b\"},{\"id\":\"0cc49d8a-887b-4939-b3dd-3b81f8c15d66\"}],\"margin\":0,\"align\":\"start\",\"children\":[{\"type\":\"object\",\"name\":\"panel.models.layout.Column\",\"id\":\"3eca1365-b846-43a1-8178-e4f81a2729fa\",\"attributes\":{\"name\":\"Column04116\",\"stylesheets\":[\"\\n:host(.pn-loading):before, .pn-loading:before {\\n  background-color: #c3c3c3;\\n  mask-size: auto calc(min(50%, 400px));\\n  -webkit-mask-size: auto calc(min(50%, 400px));\\n}\",{\"id\":\"837f85c0-e8c2-4367-bc2c-ab9088251c20\"},{\"id\":\"5a56f97d-87b5-4405-a330-3d86a988ed78\"},{\"id\":\"c08c38c9-7f8b-455f-a223-cc4c05654a2b\"},{\"id\":\"0cc49d8a-887b-4939-b3dd-3b81f8c15d66\"}],\"margin\":0,\"align\":\"start\",\"children\":[{\"type\":\"object\",\"name\":\"Row\",\"id\":\"4fa08494-51fb-475c-9108-e34f1f0bc7f2\",\"attributes\":{\"name\":\"Row04112\",\"stylesheets\":[\"\\n:host(.pn-loading):before, .pn-loading:before {\\n  background-color: #c3c3c3;\\n  mask-size: auto calc(min(50%, 400px));\\n  -webkit-mask-size: auto calc(min(50%, 400px));\\n}\",{\"id\":\"837f85c0-e8c2-4367-bc2c-ab9088251c20\"},{\"id\":\"5a56f97d-87b5-4405-a330-3d86a988ed78\"},{\"id\":\"c08c38c9-7f8b-455f-a223-cc4c05654a2b\"},{\"id\":\"0cc49d8a-887b-4939-b3dd-3b81f8c15d66\"}],\"margin\":0,\"align\":\"start\",\"children\":[{\"type\":\"object\",\"name\":\"panel.models.markup.HTML\",\"id\":\"a5ea18c8-ef1e-4b6f-a5bb-db58f1d0183d\",\"attributes\":{\"css_classes\":[\"markdown\"],\"styles\":{\"type\":\"map\",\"entries\":[[\"background-color\",\"#F6F6F6\"]]},\"stylesheets\":[\"\\n:host(.pn-loading):before, .pn-loading:before {\\n  background-color: #c3c3c3;\\n  mask-size: auto calc(min(50%, 400px));\\n  -webkit-mask-size: auto calc(min(50%, 400px));\\n}\",{\"id\":\"837f85c0-e8c2-4367-bc2c-ab9088251c20\"},{\"id\":\"2b63cf78-1596-4349-b741-60a051506557\"},{\"id\":\"c08c38c9-7f8b-455f-a223-cc4c05654a2b\"},{\"id\":\"0cc49d8a-887b-4939-b3dd-3b81f8c15d66\"}],\"margin\":[5,10],\"align\":\"start\",\"text\":\"&lt;p&gt;Last question to DB:&lt;/p&gt;\\n\"}}]}},{\"type\":\"object\",\"name\":\"Row\",\"id\":\"b505d09d-34ec-453f-a463-3ea771fb3ea7\",\"attributes\":{\"name\":\"Row04115\",\"stylesheets\":[\"\\n:host(.pn-loading):before, .pn-loading:before {\\n  background-color: #c3c3c3;\\n  mask-size: auto calc(min(50%, 400px));\\n  -webkit-mask-size: auto calc(min(50%, 400px));\\n}\",{\"id\":\"837f85c0-e8c2-4367-bc2c-ab9088251c20\"},{\"id\":\"5a56f97d-87b5-4405-a330-3d86a988ed78\"},{\"id\":\"c08c38c9-7f8b-455f-a223-cc4c05654a2b\"},{\"id\":\"0cc49d8a-887b-4939-b3dd-3b81f8c15d66\"}],\"margin\":0,\"align\":\"start\",\"children\":[{\"type\":\"object\",\"name\":\"panel.models.markup.HTML\",\"id\":\"baa32560-37c3-4cb6-8da1-7fb13e718154\",\"attributes\":{\"stylesheets\":[\"\\n:host(.pn-loading):before, .pn-loading:before {\\n  background-color: #c3c3c3;\\n  mask-size: auto calc(min(50%, 400px));\\n  -webkit-mask-size: auto calc(min(50%, 400px));\\n}\",{\"id\":\"837f85c0-e8c2-4367-bc2c-ab9088251c20\"},{\"id\":\"c08c38c9-7f8b-455f-a223-cc4c05654a2b\"},{\"id\":\"0cc49d8a-887b-4939-b3dd-3b81f8c15d66\"}],\"margin\":[5,10],\"align\":\"start\",\"text\":\"&lt;pre&gt;no DB accesses so far&lt;/pre&gt;\"}}]}}]}}]}},{\"type\":\"object\",\"name\":\"Div\",\"id\":\"18949d90-d27f-47e3-a0a3-39f574814314\",\"attributes\":{\"name\":\"Divider04117\",\"stylesheets\":[\"\\n:host(.pn-loading):before, .pn-loading:before {\\n  background-color: #c3c3c3;\\n  mask-size: auto calc(min(50%, 400px));\\n  -webkit-mask-size: auto calc(min(50%, 400px));\\n}\",{\"type\":\"object\",\"name\":\"ImportedStyleSheet\",\"id\":\"124efd1f-ded4-408a-9185-b445d179d632\",\"attributes\":{\"url\":\"https://cdn.holoviz.org/panel/1.4.4/dist/css/loading.css\"}},{\"type\":\"object\",\"name\":\"ImportedStyleSheet\",\"id\":\"2258c54a-19c0-4970-a10a-f8f357e76304\",\"attributes\":{\"url\":\"https://cdn.holoviz.org/panel/1.4.4/dist/css/divider.css\"}}],\"margin\":0,\"width_policy\":\"fit\",\"align\":\"start\",\"text\":\"<hr>\"}},{\"type\":\"object\",\"name\":\"panel.models.layout.Column\",\"id\":\"9562139c-fdaa-483b-b173-13ea3e15fcc9\",\"attributes\":{\"name\":\"Column04122\",\"stylesheets\":[\"\\n:host(.pn-loading):before, .pn-loading:before {\\n  background-color: #c3c3c3;\\n  mask-size: auto calc(min(50%, 400px));\\n  -webkit-mask-size: auto calc(min(50%, 400px));\\n}\",{\"id\":\"837f85c0-e8c2-4367-bc2c-ab9088251c20\"},{\"id\":\"5a56f97d-87b5-4405-a330-3d86a988ed78\"},{\"id\":\"c08c38c9-7f8b-455f-a223-cc4c05654a2b\"},{\"id\":\"0cc49d8a-887b-4939-b3dd-3b81f8c15d66\"}],\"margin\":0,\"align\":\"start\",\"children\":[{\"type\":\"object\",\"name\":\"panel.models.markup.HTML\",\"id\":\"bd298551-7aab-473b-b390-7b064dadeff4\",\"attributes\":{\"stylesheets\":[\"\\n:host(.pn-loading):before, .pn-loading:before {\\n  background-color: #c3c3c3;\\n  mask-size: auto calc(min(50%, 400px));\\n  -webkit-mask-size: auto calc(min(50%, 400px));\\n}\",{\"id\":\"837f85c0-e8c2-4367-bc2c-ab9088251c20\"},{\"id\":\"c08c38c9-7f8b-455f-a223-cc4c05654a2b\"},{\"id\":\"0cc49d8a-887b-4939-b3dd-3b81f8c15d66\"}],\"margin\":[5,10],\"align\":\"start\",\"text\":\"&lt;pre&gt; &lt;/pre&gt;\"}}]}}]}}}},{\"type\":\"object\",\"name\":\"TabPanel\",\"id\":\"216a9fb1-1577-4873-881e-7832f3906b93\",\"attributes\":{\"name\":\"Column04134\",\"title\":\"Chat History\",\"child\":{\"type\":\"object\",\"name\":\"panel.models.layout.Column\",\"id\":\"02769988-7076-4386-b306-6d75995e3840\",\"attributes\":{\"name\":\"Column04134\",\"stylesheets\":[\"\\n:host(.pn-loading):before, .pn-loading:before {\\n  background-color: #c3c3c3;\\n  mask-size: auto calc(min(50%, 400px));\\n  -webkit-mask-size: auto calc(min(50%, 400px));\\n}\",{\"id\":\"837f85c0-e8c2-4367-bc2c-ab9088251c20\"},{\"id\":\"5a56f97d-87b5-4405-a330-3d86a988ed78\"},{\"id\":\"c08c38c9-7f8b-455f-a223-cc4c05654a2b\"},{\"id\":\"0cc49d8a-887b-4939-b3dd-3b81f8c15d66\"}],\"margin\":0,\"align\":\"start\",\"children\":[{\"type\":\"object\",\"name\":\"panel.models.layout.Column\",\"id\":\"54055fb4-68a2-43ab-8825-098b07f10973\",\"attributes\":{\"name\":\"Column04128\",\"stylesheets\":[\"\\n:host(.pn-loading):before, .pn-loading:before {\\n  background-color: #c3c3c3;\\n  mask-size: auto calc(min(50%, 400px));\\n  -webkit-mask-size: auto calc(min(50%, 400px));\\n}\",{\"id\":\"837f85c0-e8c2-4367-bc2c-ab9088251c20\"},{\"id\":\"5a56f97d-87b5-4405-a330-3d86a988ed78\"},{\"id\":\"c08c38c9-7f8b-455f-a223-cc4c05654a2b\"},{\"id\":\"0cc49d8a-887b-4939-b3dd-3b81f8c15d66\"}],\"margin\":0,\"align\":\"start\",\"children\":[{\"type\":\"object\",\"name\":\"panel.models.layout.Column\",\"id\":\"ebaaef63-cafd-43e7-9e69-e2202989fdf9\",\"attributes\":{\"name\":\"WidgetBox04132\",\"css_classes\":[\"panel-widget-box\",\"scrollable-vertical\"],\"stylesheets\":[\"\\n:host(.pn-loading):before, .pn-loading:before {\\n  background-color: #c3c3c3;\\n  mask-size: auto calc(min(50%, 400px));\\n  -webkit-mask-size: auto calc(min(50%, 400px));\\n}\",{\"id\":\"837f85c0-e8c2-4367-bc2c-ab9088251c20\"},{\"id\":\"697e79bc-f0d5-4d4c-b39c-958a3fb3f23e\"},{\"id\":\"5a56f97d-87b5-4405-a330-3d86a988ed78\"},{\"id\":\"c08c38c9-7f8b-455f-a223-cc4c05654a2b\"},{\"id\":\"0cc49d8a-887b-4939-b3dd-3b81f8c15d66\"}],\"width\":600,\"min_width\":600,\"margin\":0,\"align\":\"start\",\"children\":[{\"type\":\"object\",\"name\":\"Row\",\"id\":\"937dd2e5-c055-428c-a71a-cbd05298c3c0\",\"attributes\":{\"name\":\"Row04131\",\"stylesheets\":[\"\\n:host(.pn-loading):before, .pn-loading:before {\\n  background-color: #c3c3c3;\\n  mask-size: auto calc(min(50%, 400px));\\n  -webkit-mask-size: auto calc(min(50%, 400px));\\n}\",{\"id\":\"837f85c0-e8c2-4367-bc2c-ab9088251c20\"},{\"id\":\"5a56f97d-87b5-4405-a330-3d86a988ed78\"},{\"id\":\"c08c38c9-7f8b-455f-a223-cc4c05654a2b\"},{\"id\":\"0cc49d8a-887b-4939-b3dd-3b81f8c15d66\"}],\"margin\":0,\"align\":\"start\",\"children\":[{\"type\":\"object\",\"name\":\"panel.models.markup.HTML\",\"id\":\"4bd4a51e-aadd-4bd6-a33e-987ab1b01477\",\"attributes\":{\"stylesheets\":[\"\\n:host(.pn-loading):before, .pn-loading:before {\\n  background-color: #c3c3c3;\\n  mask-size: auto calc(min(50%, 400px));\\n  -webkit-mask-size: auto calc(min(50%, 400px));\\n}\",{\"id\":\"837f85c0-e8c2-4367-bc2c-ab9088251c20\"},{\"id\":\"c08c38c9-7f8b-455f-a223-cc4c05654a2b\"},{\"id\":\"0cc49d8a-887b-4939-b3dd-3b81f8c15d66\"}],\"margin\":[5,10],\"align\":\"start\",\"text\":\"&lt;pre&gt;No History Yet&lt;/pre&gt;\"}}]}}]}}]}},{\"type\":\"object\",\"name\":\"Div\",\"id\":\"b19c7420-cb20-4b8b-b81c-3e1801b1c6cd\",\"attributes\":{\"name\":\"Divider04133\",\"stylesheets\":[\"\\n:host(.pn-loading):before, .pn-loading:before {\\n  background-color: #c3c3c3;\\n  mask-size: auto calc(min(50%, 400px));\\n  -webkit-mask-size: auto calc(min(50%, 400px));\\n}\",{\"type\":\"object\",\"name\":\"ImportedStyleSheet\",\"id\":\"744a453f-8dec-45bb-939f-002ef0e8d5a9\",\"attributes\":{\"url\":\"https://cdn.holoviz.org/panel/1.4.4/dist/css/loading.css\"}},{\"type\":\"object\",\"name\":\"ImportedStyleSheet\",\"id\":\"920f3881-38e5-45d7-a837-61cbd323a0f3\",\"attributes\":{\"url\":\"https://cdn.holoviz.org/panel/1.4.4/dist/css/divider.css\"}}],\"margin\":0,\"width_policy\":\"fit\",\"align\":\"start\",\"text\":\"<hr>\"}}]}}}},{\"type\":\"object\",\"name\":\"TabPanel\",\"id\":\"3c1fc6df-c8bf-4923-b12b-765a9278e47a\",\"attributes\":{\"name\":\"Column04150\",\"title\":\"Configure\",\"child\":{\"type\":\"object\",\"name\":\"panel.models.layout.Column\",\"id\":\"07750990-b716-441c-a15e-8e47ca39ca72\",\"attributes\":{\"name\":\"Column04150\",\"stylesheets\":[\"\\n:host(.pn-loading):before, .pn-loading:before {\\n  background-color: #c3c3c3;\\n  mask-size: auto calc(min(50%, 400px));\\n  -webkit-mask-size: auto calc(min(50%, 400px));\\n}\",{\"id\":\"837f85c0-e8c2-4367-bc2c-ab9088251c20\"},{\"id\":\"5a56f97d-87b5-4405-a330-3d86a988ed78\"},{\"id\":\"c08c38c9-7f8b-455f-a223-cc4c05654a2b\"},{\"id\":\"0cc49d8a-887b-4939-b3dd-3b81f8c15d66\"}],\"margin\":0,\"align\":\"start\",\"children\":[{\"type\":\"object\",\"name\":\"Row\",\"id\":\"25e53b0c-88b9-4494-ba6e-16c6cecc5891\",\"attributes\":{\"name\":\"Row04142\",\"stylesheets\":[\"\\n:host(.pn-loading):before, .pn-loading:before {\\n  background-color: #c3c3c3;\\n  mask-size: auto calc(min(50%, 400px));\\n  -webkit-mask-size: auto calc(min(50%, 400px));\\n}\",{\"id\":\"837f85c0-e8c2-4367-bc2c-ab9088251c20\"},{\"id\":\"5a56f97d-87b5-4405-a330-3d86a988ed78\"},{\"id\":\"c08c38c9-7f8b-455f-a223-cc4c05654a2b\"},{\"id\":\"0cc49d8a-887b-4939-b3dd-3b81f8c15d66\"}],\"margin\":0,\"align\":\"start\",\"children\":[{\"type\":\"object\",\"name\":\"FileInput\",\"id\":\"2ebbb0e8-8a2e-4d81-a829-8f630d1eead0\",\"attributes\":{\"stylesheets\":[\"\\n:host(.pn-loading):before, .pn-loading:before {\\n  background-color: #c3c3c3;\\n  mask-size: auto calc(min(50%, 400px));\\n  -webkit-mask-size: auto calc(min(50%, 400px));\\n}\",{\"id\":\"837f85c0-e8c2-4367-bc2c-ab9088251c20\"},{\"id\":\"c08c38c9-7f8b-455f-a223-cc4c05654a2b\"},{\"id\":\"0cc49d8a-887b-4939-b3dd-3b81f8c15d66\"}],\"margin\":[5,10],\"align\":\"start\",\"accept\":\".pdf\"}},{\"type\":\"object\",\"name\":\"panel.models.widgets.Button\",\"id\":\"43cf7abd-c462-46d7-8c80-93bb0a4bd76d\",\"attributes\":{\"button_type\":\"primary\",\"subscribed_events\":{\"type\":\"set\",\"entries\":[\"button_click\"]},\"css_classes\":[\"solid\"],\"stylesheets\":[\"\\n:host(.pn-loading):before, .pn-loading:before {\\n  background-color: #c3c3c3;\\n  mask-size: auto calc(min(50%, 400px));\\n  -webkit-mask-size: auto calc(min(50%, 400px));\\n}\",{\"id\":\"837f85c0-e8c2-4367-bc2c-ab9088251c20\"},{\"type\":\"object\",\"name\":\"ImportedStyleSheet\",\"id\":\"10157213-7ebc-48af-ada7-3c3f156c50a9\",\"attributes\":{\"url\":\"https://cdn.holoviz.org/panel/1.4.4/dist/css/button.css\"}},{\"id\":\"c08c38c9-7f8b-455f-a223-cc4c05654a2b\"},{\"id\":\"0cc49d8a-887b-4939-b3dd-3b81f8c15d66\"}],\"margin\":[5,10],\"align\":\"start\",\"label\":\"Load pdf\"}},{\"type\":\"object\",\"name\":\"panel.models.layout.Column\",\"id\":\"36e7cf00-32b8-4b98-b33d-15344f25acea\",\"attributes\":{\"name\":\"Column04139\",\"stylesheets\":[\"\\n:host(.pn-loading):before, .pn-loading:before {\\n  background-color: #c3c3c3;\\n  mask-size: auto calc(min(50%, 400px));\\n  -webkit-mask-size: auto calc(min(50%, 400px));\\n}\",{\"id\":\"837f85c0-e8c2-4367-bc2c-ab9088251c20\"},{\"id\":\"5a56f97d-87b5-4405-a330-3d86a988ed78\"},{\"id\":\"c08c38c9-7f8b-455f-a223-cc4c05654a2b\"},{\"id\":\"0cc49d8a-887b-4939-b3dd-3b81f8c15d66\"}],\"margin\":0,\"align\":\"start\",\"children\":[{\"type\":\"object\",\"name\":\"panel.models.markup.HTML\",\"id\":\"6338a787-fb44-41c8-b2f5-2d43579d4a64\",\"attributes\":{\"css_classes\":[\"markdown\"],\"stylesheets\":[\"\\n:host(.pn-loading):before, .pn-loading:before {\\n  background-color: #c3c3c3;\\n  mask-size: auto calc(min(50%, 400px));\\n  -webkit-mask-size: auto calc(min(50%, 400px));\\n}\",{\"id\":\"837f85c0-e8c2-4367-bc2c-ab9088251c20\"},{\"id\":\"2b63cf78-1596-4349-b741-60a051506557\"},{\"id\":\"c08c38c9-7f8b-455f-a223-cc4c05654a2b\"},{\"id\":\"0cc49d8a-887b-4939-b3dd-3b81f8c15d66\"}],\"margin\":[5,10],\"align\":\"start\",\"text\":\"&lt;p&gt;Loaded File: /content/drive/MyDrive/DataRoadMap/MachineLearning-Lecture01.pdf&lt;/p&gt;\\n\"}}]}}]}},{\"type\":\"object\",\"name\":\"Row\",\"id\":\"2a190470-e47f-47fb-a75a-79362582bcb5\",\"attributes\":{\"name\":\"Row04145\",\"stylesheets\":[\"\\n:host(.pn-loading):before, .pn-loading:before {\\n  background-color: #c3c3c3;\\n  mask-size: auto calc(min(50%, 400px));\\n  -webkit-mask-size: auto calc(min(50%, 400px));\\n}\",{\"id\":\"837f85c0-e8c2-4367-bc2c-ab9088251c20\"},{\"id\":\"5a56f97d-87b5-4405-a330-3d86a988ed78\"},{\"id\":\"c08c38c9-7f8b-455f-a223-cc4c05654a2b\"},{\"id\":\"0cc49d8a-887b-4939-b3dd-3b81f8c15d66\"}],\"margin\":0,\"align\":\"start\",\"children\":[{\"type\":\"object\",\"name\":\"panel.models.widgets.Button\",\"id\":\"6161daaa-e5f9-48ad-b829-ff416cff9c4b\",\"attributes\":{\"button_type\":\"warning\",\"subscribed_events\":{\"type\":\"set\",\"entries\":[\"button_click\"]},\"css_classes\":[\"solid\"],\"stylesheets\":[\"\\n:host(.pn-loading):before, .pn-loading:before {\\n  background-color: #c3c3c3;\\n  mask-size: auto calc(min(50%, 400px));\\n  -webkit-mask-size: auto calc(min(50%, 400px));\\n}\",{\"id\":\"837f85c0-e8c2-4367-bc2c-ab9088251c20\"},{\"id\":\"10157213-7ebc-48af-ada7-3c3f156c50a9\"},{\"id\":\"c08c38c9-7f8b-455f-a223-cc4c05654a2b\"},{\"id\":\"0cc49d8a-887b-4939-b3dd-3b81f8c15d66\"}],\"margin\":[5,10],\"align\":\"start\",\"label\":\"Clear History\"}},{\"type\":\"object\",\"name\":\"panel.models.markup.HTML\",\"id\":\"ee1f1bf9-f950-48e4-867e-410cddcba1b9\",\"attributes\":{\"css_classes\":[\"markdown\"],\"stylesheets\":[\"\\n:host(.pn-loading):before, .pn-loading:before {\\n  background-color: #c3c3c3;\\n  mask-size: auto calc(min(50%, 400px));\\n  -webkit-mask-size: auto calc(min(50%, 400px));\\n}\",{\"id\":\"837f85c0-e8c2-4367-bc2c-ab9088251c20\"},{\"id\":\"2b63cf78-1596-4349-b741-60a051506557\"},{\"id\":\"c08c38c9-7f8b-455f-a223-cc4c05654a2b\"},{\"id\":\"0cc49d8a-887b-4939-b3dd-3b81f8c15d66\"}],\"margin\":[5,10],\"align\":\"start\",\"text\":\"&lt;p&gt;Clears chat history. Can use to start a new topic&lt;/p&gt;\\n\"}}]}},{\"type\":\"object\",\"name\":\"Div\",\"id\":\"7db92500-0668-46ac-bba9-3151bb95a08e\",\"attributes\":{\"name\":\"Divider04146\",\"stylesheets\":[\"\\n:host(.pn-loading):before, .pn-loading:before {\\n  background-color: #c3c3c3;\\n  mask-size: auto calc(min(50%, 400px));\\n  -webkit-mask-size: auto calc(min(50%, 400px));\\n}\",{\"type\":\"object\",\"name\":\"ImportedStyleSheet\",\"id\":\"825b3918-557d-448c-b7ed-34b28732b526\",\"attributes\":{\"url\":\"https://cdn.holoviz.org/panel/1.4.4/dist/css/loading.css\"}},{\"type\":\"object\",\"name\":\"ImportedStyleSheet\",\"id\":\"99a92bb4-b4bc-4286-a2ba-d1e21500616a\",\"attributes\":{\"url\":\"https://cdn.holoviz.org/panel/1.4.4/dist/css/divider.css\"}}],\"margin\":0,\"width_policy\":\"fit\",\"align\":\"start\",\"text\":\"<hr>\"}},{\"type\":\"object\",\"name\":\"Row\",\"id\":\"cfadbb51-c188-45c1-bad9-dfaa8aea82b4\",\"attributes\":{\"name\":\"Row04149\",\"stylesheets\":[\"\\n:host(.pn-loading):before, .pn-loading:before {\\n  background-color: #c3c3c3;\\n  mask-size: auto calc(min(50%, 400px));\\n  -webkit-mask-size: auto calc(min(50%, 400px));\\n}\",{\"id\":\"837f85c0-e8c2-4367-bc2c-ab9088251c20\"},{\"id\":\"5a56f97d-87b5-4405-a330-3d86a988ed78\"},{\"id\":\"c08c38c9-7f8b-455f-a223-cc4c05654a2b\"},{\"id\":\"0cc49d8a-887b-4939-b3dd-3b81f8c15d66\"}],\"margin\":0,\"align\":\"start\",\"children\":[{\"type\":\"object\",\"name\":\"panel.models.markup.HTML\",\"id\":\"ddfa1a9c-7fd2-44bb-802d-03e5b417719d\",\"attributes\":{\"stylesheets\":[\"\\n:host(.pn-loading):before, .pn-loading:before {\\n  background-color: #c3c3c3;\\n  mask-size: auto calc(min(50%, 400px));\\n  -webkit-mask-size: auto calc(min(50%, 400px));\\n}\",{\"id\":\"837f85c0-e8c2-4367-bc2c-ab9088251c20\"},{\"id\":\"c08c38c9-7f8b-455f-a223-cc4c05654a2b\"},{\"id\":\"0cc49d8a-887b-4939-b3dd-3b81f8c15d66\"}],\"width\":400,\"height\":400,\"min_width\":400,\"min_height\":400,\"margin\":[5,10],\"align\":\"start\",\"text\":\"&lt;img src=&quot;data:image/png;base64,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&quot;  style=&quot;max-width: 100%; max-height: 100%; object-fit: contain; width: 400px; height: 400px;&quot;&gt;&lt;/img&gt;\"}}]}}]}}}}]}}]}},{\"type\":\"object\",\"name\":\"panel.models.comm_manager.CommManager\",\"id\":\"7967457e-5fe4-43dc-bcdf-577b99033286\",\"attributes\":{\"plot_id\":\"660c52af-5b10-430b-aa6c-6b85c2e4d832\",\"comm_id\":\"292a10d2908240a6a867aa0b56a65b9d\",\"client_comm_id\":\"81b74f6a392c49ac83c2f22da7e05d12\"}}],\"defs\":[{\"type\":\"model\",\"name\":\"ReactiveHTML1\"},{\"type\":\"model\",\"name\":\"FlexBox1\",\"properties\":[{\"name\":\"align_content\",\"kind\":\"Any\",\"default\":\"flex-start\"},{\"name\":\"align_items\",\"kind\":\"Any\",\"default\":\"flex-start\"},{\"name\":\"flex_direction\",\"kind\":\"Any\",\"default\":\"row\"},{\"name\":\"flex_wrap\",\"kind\":\"Any\",\"default\":\"wrap\"},{\"name\":\"gap\",\"kind\":\"Any\",\"default\":\"\"},{\"name\":\"justify_content\",\"kind\":\"Any\",\"default\":\"flex-start\"}]},{\"type\":\"model\",\"name\":\"FloatPanel1\",\"properties\":[{\"name\":\"config\",\"kind\":\"Any\",\"default\":{\"type\":\"map\"}},{\"name\":\"contained\",\"kind\":\"Any\",\"default\":true},{\"name\":\"position\",\"kind\":\"Any\",\"default\":\"right-top\"},{\"name\":\"offsetx\",\"kind\":\"Any\",\"default\":null},{\"name\":\"offsety\",\"kind\":\"Any\",\"default\":null},{\"name\":\"theme\",\"kind\":\"Any\",\"default\":\"primary\"},{\"name\":\"status\",\"kind\":\"Any\",\"default\":\"normalized\"}]},{\"type\":\"model\",\"name\":\"GridStack1\",\"properties\":[{\"name\":\"mode\",\"kind\":\"Any\",\"default\":\"warn\"},{\"name\":\"ncols\",\"kind\":\"Any\",\"default\":null},{\"name\":\"nrows\",\"kind\":\"Any\",\"default\":null},{\"name\":\"allow_resize\",\"kind\":\"Any\",\"default\":true},{\"name\":\"allow_drag\",\"kind\":\"Any\",\"default\":true},{\"name\":\"state\",\"kind\":\"Any\",\"default\":[]}]},{\"type\":\"model\",\"name\":\"drag1\",\"properties\":[{\"name\":\"slider_width\",\"kind\":\"Any\",\"default\":5},{\"name\":\"slider_color\",\"kind\":\"Any\",\"default\":\"black\"},{\"name\":\"value\",\"kind\":\"Any\",\"default\":50}]},{\"type\":\"model\",\"name\":\"click1\",\"properties\":[{\"name\":\"terminal_output\",\"kind\":\"Any\",\"default\":\"\"},{\"name\":\"debug_name\",\"kind\":\"Any\",\"default\":\"\"},{\"name\":\"clears\",\"kind\":\"Any\",\"default\":0}]},{\"type\":\"model\",\"name\":\"FastWrapper1\",\"properties\":[{\"name\":\"object\",\"kind\":\"Any\",\"default\":null},{\"name\":\"style\",\"kind\":\"Any\",\"default\":null}]},{\"type\":\"model\",\"name\":\"NotificationAreaBase1\",\"properties\":[{\"name\":\"js_events\",\"kind\":\"Any\",\"default\":{\"type\":\"map\"}},{\"name\":\"position\",\"kind\":\"Any\",\"default\":\"bottom-right\"},{\"name\":\"_clear\",\"kind\":\"Any\",\"default\":0}]},{\"type\":\"model\",\"name\":\"NotificationArea1\",\"properties\":[{\"name\":\"js_events\",\"kind\":\"Any\",\"default\":{\"type\":\"map\"}},{\"name\":\"notifications\",\"kind\":\"Any\",\"default\":[]},{\"name\":\"position\",\"kind\":\"Any\",\"default\":\"bottom-right\"},{\"name\":\"_clear\",\"kind\":\"Any\",\"default\":0},{\"name\":\"types\",\"kind\":\"Any\",\"default\":[{\"type\":\"map\",\"entries\":[[\"type\",\"warning\"],[\"background\",\"#ffc107\"],[\"icon\",{\"type\":\"map\",\"entries\":[[\"className\",\"fas fa-exclamation-triangle\"],[\"tagName\",\"i\"],[\"color\",\"white\"]]}]]},{\"type\":\"map\",\"entries\":[[\"type\",\"info\"],[\"background\",\"#007bff\"],[\"icon\",{\"type\":\"map\",\"entries\":[[\"className\",\"fas fa-info-circle\"],[\"tagName\",\"i\"],[\"color\",\"white\"]]}]]}]}]},{\"type\":\"model\",\"name\":\"Notification\",\"properties\":[{\"name\":\"background\",\"kind\":\"Any\",\"default\":null},{\"name\":\"duration\",\"kind\":\"Any\",\"default\":3000},{\"name\":\"icon\",\"kind\":\"Any\",\"default\":null},{\"name\":\"message\",\"kind\":\"Any\",\"default\":\"\"},{\"name\":\"notification_type\",\"kind\":\"Any\",\"default\":null},{\"name\":\"_destroyed\",\"kind\":\"Any\",\"default\":false}]},{\"type\":\"model\",\"name\":\"TemplateActions1\",\"properties\":[{\"name\":\"open_modal\",\"kind\":\"Any\",\"default\":0},{\"name\":\"close_modal\",\"kind\":\"Any\",\"default\":0}]},{\"type\":\"model\",\"name\":\"BootstrapTemplateActions1\",\"properties\":[{\"name\":\"open_modal\",\"kind\":\"Any\",\"default\":0},{\"name\":\"close_modal\",\"kind\":\"Any\",\"default\":0}]},{\"type\":\"model\",\"name\":\"TemplateEditor1\",\"properties\":[{\"name\":\"layout\",\"kind\":\"Any\",\"default\":[]}]},{\"type\":\"model\",\"name\":\"MaterialTemplateActions1\",\"properties\":[{\"name\":\"open_modal\",\"kind\":\"Any\",\"default\":0},{\"name\":\"close_modal\",\"kind\":\"Any\",\"default\":0}]},{\"type\":\"model\",\"name\":\"copy_to_clipboard1\",\"properties\":[{\"name\":\"fill\",\"kind\":\"Any\",\"default\":\"none\"},{\"name\":\"value\",\"kind\":\"Any\",\"default\":null}]}]}};\n",
              "  var render_items = [{\"docid\":\"dcb4b219-f3b9-44de-8308-4ae552dfbb60\",\"roots\":{\"660c52af-5b10-430b-aa6c-6b85c2e4d832\":\"e2b0dab0-4873-4106-869c-e33b351b15da\"},\"root_ids\":[\"660c52af-5b10-430b-aa6c-6b85c2e4d832\"]}];\n",
              "  var docs = Object.values(docs_json)\n",
              "  if (!docs) {\n",
              "    return\n",
              "  }\n",
              "  const py_version = docs[0].version.replace('rc', '-rc.').replace('.dev', '-dev.')\n",
              "  async function embed_document(root) {\n",
              "    var Bokeh = get_bokeh(root)\n",
              "    await Bokeh.embed.embed_items_notebook(docs_json, render_items);\n",
              "    for (const render_item of render_items) {\n",
              "      for (const root_id of render_item.root_ids) {\n",
              "\tconst id_el = document.getElementById(root_id)\n",
              "\tif (id_el.children.length && id_el.children[0].hasAttribute('data-root-id')) {\n",
              "\t  const root_el = id_el.children[0]\n",
              "\t  root_el.id = root_el.id + '-rendered'\n",
              "\t  for (const child of root_el.children) {\n",
              "            // Ensure JupyterLab does not capture keyboard shortcuts\n",
              "            // see: https://jupyterlab.readthedocs.io/en/4.1.x/extension/notebook.html#keyboard-interaction-model\n",
              "\t    child.setAttribute('data-lm-suppress-shortcuts', 'true')\n",
              "\t  }\n",
              "\t}\n",
              "      }\n",
              "    }\n",
              "  }\n",
              "  function get_bokeh(root) {\n",
              "    if (root.Bokeh === undefined) {\n",
              "      return null\n",
              "    } else if (root.Bokeh.version !== py_version) {\n",
              "      if (root.Bokeh.versions === undefined || !root.Bokeh.versions.has(py_version)) {\n",
              "\treturn null\n",
              "      }\n",
              "      return root.Bokeh.versions.get(py_version);\n",
              "    } else if (root.Bokeh.version === py_version) {\n",
              "      return root.Bokeh\n",
              "    }\n",
              "    return null\n",
              "  }\n",
              "  function is_loaded(root) {\n",
              "    var Bokeh = get_bokeh(root)\n",
              "    return (Bokeh != null && Bokeh.Panel !== undefined)\n",
              "  }\n",
              "  if (is_loaded(root)) {\n",
              "    embed_document(root);\n",
              "  } else {\n",
              "    var attempts = 0;\n",
              "    var timer = setInterval(function(root) {\n",
              "      if (is_loaded(root)) {\n",
              "        clearInterval(timer);\n",
              "        embed_document(root);\n",
              "      } else if (document.readyState == \"complete\") {\n",
              "        attempts++;\n",
              "        if (attempts > 200) {\n",
              "          clearInterval(timer);\n",
              "\t  var Bokeh = get_bokeh(root)\n",
              "\t  if (Bokeh == null || Bokeh.Panel == null) {\n",
              "            console.warn(\"Panel: ERROR: Unable to run Panel code because Bokeh or Panel library is missing\");\n",
              "\t  } else {\n",
              "\t    console.warn(\"Panel: WARNING: Attempting to render but not all required libraries could be resolved.\")\n",
              "\t    embed_document(root)\n",
              "\t  }\n",
              "        }\n",
              "      }\n",
              "    }, 25, root)\n",
              "  }\n",
              "})(window);</script>"
            ],
            "text/plain": [
              "Column\n",
              "    [0] Row\n",
              "        [0] Markdown(str)\n",
              "    [1] Tabs\n",
              "        [0] Column\n",
              "            [0] Row\n",
              "                [0] TextInput(placeholder='Enter text here…')\n",
              "            [1] Divider()\n",
              "            [2] ParamFunction(function, _pane=WidgetBox, defer_load=False, height=300, loading_indicator=True)\n",
              "            [3] Divider()\n",
              "        [1] Column\n",
              "            [0] ParamMethod(method, _pane=Column, defer_load=False)\n",
              "            [1] Divider()\n",
              "            [2] ParamMethod(method, _pane=Str, defer_load=False)\n",
              "        [2] Column\n",
              "            [0] ParamMethod(method, _pane=WidgetBox, defer_load=False)\n",
              "            [1] Divider()\n",
              "        [3] Column\n",
              "            [0] Row\n",
              "                [0] FileInput(accept='.pdf')\n",
              "                [1] Button(button_type='primary', name='Load pdf')\n",
              "                [2] ParamFunction(function, _pane=Markdown, defer_load=False)\n",
              "            [1] Row\n",
              "                [0] Button(button_type='warning', name='Clear History')\n",
              "                [1] Markdown(str)\n",
              "            [2] Divider()\n",
              "            [3] Row\n",
              "                [0] Image(str, width=400)"
            ]
          },
          "execution_count": 134,
          "metadata": {
            "application/vnd.holoviews_exec.v0+json": {
              "id": "660c52af-5b10-430b-aa6c-6b85c2e4d832"
            }
          },
          "output_type": "execute_result"
        }
      ],
      "source": [
        "cb = cbfs()\n",
        "\n",
        "file_input = pn.widgets.FileInput(accept='.pdf')\n",
        "button_load = pn.widgets.Button(name=\"Load pdf\", button_type='primary')\n",
        "button_clearhistory = pn.widgets.Button(name=\"Clear History\", button_type='warning')\n",
        "button_clearhistory.on_click(cb.clr_history)\n",
        "inp = pn.widgets.TextInput( placeholder='Enter text here…')\n",
        "\n",
        "bound_button_load = pn.bind(cb.call_load_db, button_load.param.clicks)\n",
        "conversation = pn.bind(cb.convchain, inp)\n",
        "\n",
        "jpg_pane = pn.pane.Image( '/content/drive/MyDrive/DataRoadMap/free-pdf-upload-icon-3389-thumb.png')\n",
        "\n",
        "tab1 = pn.Column(\n",
        "    pn.Row(inp),\n",
        "    pn.layout.Divider(),\n",
        "    pn.panel(conversation,  loading_indicator=True, height=300),\n",
        "    pn.layout.Divider(),\n",
        ")\n",
        "tab2= pn.Column(\n",
        "    pn.panel(cb.get_lquest),\n",
        "    pn.layout.Divider(),\n",
        "    pn.panel(cb.get_sources ),\n",
        ")\n",
        "tab3= pn.Column(\n",
        "    pn.panel(cb.get_chats),\n",
        "    pn.layout.Divider(),\n",
        ")\n",
        "tab4=pn.Column(\n",
        "    pn.Row( file_input, button_load, bound_button_load),\n",
        "    pn.Row( button_clearhistory, pn.pane.Markdown(\"Clears chat history. Can use to start a new topic\" )),\n",
        "    pn.layout.Divider(),\n",
        "    pn.Row(jpg_pane.clone(width=400))\n",
        ")\n",
        "dashboard = pn.Column(\n",
        "    pn.Row(pn.pane.Markdown('# Chat With Your PDF_Bot')),\n",
        "    pn.Tabs(('Conversation', tab1), ('Database', tab2), ('Chat History', tab3),('Configure', tab4))\n",
        ")\n",
        "dashboard"
      ]
    },
    {
      "cell_type": "code",
      "execution_count": 134,
      "metadata": {
        "id": "K0OcpcNB5CAr"
      },
      "outputs": [],
      "source": []
    }
  ],
  "metadata": {
    "colab": {
      "provenance": []
    },
    "kernelspec": {
      "display_name": "Python 3",
      "name": "python3"
    },
    "language_info": {
      "name": "python"
    }
  },
  "nbformat": 4,
  "nbformat_minor": 0
}
